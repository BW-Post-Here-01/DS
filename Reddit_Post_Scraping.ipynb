{
  "nbformat": 4,
  "nbformat_minor": 0,
  "metadata": {
    "colab": {
      "name": "Reddit_Post_Scraping.ipynb",
      "provenance": [],
      "collapsed_sections": []
    },
    "kernelspec": {
      "name": "python3",
      "display_name": "Python 3"
    }
  },
  "cells": [
    {
      "cell_type": "markdown",
      "metadata": {
        "id": "av8kgOTy0Zwk",
        "colab_type": "text"
      },
      "source": [
        "## Code here is using PRAW - the Python Reddit API Wrapper\n",
        "\n",
        "https://praw.readthedocs.io/en/latest/index.html"
      ]
    },
    {
      "cell_type": "code",
      "metadata": {
        "id": "39Uij5pMrW_Y",
        "colab_type": "code",
        "colab": {
          "base_uri": "https://localhost:8080/",
          "height": 289
        },
        "outputId": "c3b1be78-a4a2-4c4a-af40-6a9be95b8a57"
      },
      "source": [
        "!pip install praw"
      ],
      "execution_count": 15,
      "outputs": [
        {
          "output_type": "stream",
          "text": [
            "Collecting praw\n",
            "  Downloading https://files.pythonhosted.org/packages/5c/39/17251486951815d4514e4a3f179d4f3e7af5f7b1ce8eaba5a3ea61bc91f2/praw-7.0.0-py3-none-any.whl (143kB)\n",
            "Collecting websocket-client>=0.54.0 (from praw)\n",
            "  Downloading https://files.pythonhosted.org/packages/4c/5f/f61b420143ed1c8dc69f9eaec5ff1ac36109d52c80de49d66e0c36c3dfdf/websocket_client-0.57.0-py2.py3-none-any.whl (200kB)\n",
            "Collecting update-checker>=0.16 (from praw)\n",
            "  Downloading https://files.pythonhosted.org/packages/17/c9/ab11855af164d03be0ff4fddd4c46a5bd44799a9ecc1770e01a669c21168/update_checker-0.16-py2.py3-none-any.whl\n",
            "Collecting prawcore<2.0,>=1.3.0 (from praw)\n",
            "  Downloading https://files.pythonhosted.org/packages/c9/8e/d076cb8f26523f91eef3e75d6cf9143b2f16d67ce7d681a61d0bbc783f49/prawcore-1.3.0-py3-none-any.whl\n",
            "Requirement already satisfied: six in c:\\users\\thedo\\anaconda3\\lib\\site-packages (from websocket-client>=0.54.0->praw) (1.12.0)\n",
            "Requirement already satisfied: requests>=2.3.0 in c:\\users\\thedo\\anaconda3\\lib\\site-packages (from update-checker>=0.16->praw) (2.22.0)\n",
            "Requirement already satisfied: certifi>=2017.4.17 in c:\\users\\thedo\\anaconda3\\lib\\site-packages (from requests>=2.3.0->update-checker>=0.16->praw) (2019.9.11)\n",
            "Requirement already satisfied: idna<2.9,>=2.5 in c:\\users\\thedo\\anaconda3\\lib\\site-packages (from requests>=2.3.0->update-checker>=0.16->praw) (2.8)\n",
            "Requirement already satisfied: urllib3!=1.25.0,!=1.25.1,<1.26,>=1.21.1 in c:\\users\\thedo\\anaconda3\\lib\\site-packages (from requests>=2.3.0->update-checker>=0.16->praw) (1.24.2)\n",
            "Requirement already satisfied: chardet<3.1.0,>=3.0.2 in c:\\users\\thedo\\anaconda3\\lib\\site-packages (from requests>=2.3.0->update-checker>=0.16->praw) (3.0.4)\n",
            "Installing collected packages: websocket-client, update-checker, prawcore, praw\n",
            "Successfully installed praw-7.0.0 prawcore-1.3.0 update-checker-0.16 websocket-client-0.57.0\n"
          ],
          "name": "stdout"
        }
      ]
    },
    {
      "cell_type": "markdown",
      "metadata": {
        "id": "dCxm57zh0tYq",
        "colab_type": "text"
      },
      "source": [
        "The credentials below are my own, you can create your own app here: https://www.reddit.com/prefs/apps/"
      ]
    },
    {
      "cell_type": "code",
      "metadata": {
        "id": "JfSIg4WTradh",
        "colab_type": "code",
        "colab": {}
      },
      "source": [
        "import praw\n",
        "\n",
        "reddit = praw.Reddit(client_id='****',\n",
        "                     client_secret='****',\n",
        "                     user_agent='example agent')"
      ],
      "execution_count": 0,
      "outputs": []
    },
    {
      "cell_type": "code",
      "metadata": {
        "id": "yu5TOoTNrhbG",
        "colab_type": "code",
        "colab": {}
      },
      "source": [
        "# Just picking a subreddit as an example\n",
        "sub = reddit.subreddit('machinelearning')"
      ],
      "execution_count": 0,
      "outputs": []
    },
    {
      "cell_type": "code",
      "metadata": {
        "id": "f0f6ckHSsWU6",
        "colab_type": "code",
        "colab": {}
      },
      "source": [
        "top_posts = sub.top(limit=100)"
      ],
      "execution_count": 0,
      "outputs": []
    },
    {
      "cell_type": "code",
      "metadata": {
        "id": "uPGT-qr0saUN",
        "colab_type": "code",
        "colab": {
          "base_uri": "https://localhost:8080/",
          "height": 34
        },
        "outputId": "adef6696-24da-4eee-f59f-0c38ebbcfb19"
      },
      "source": [
        "type(top_posts)"
      ],
      "execution_count": 5,
      "outputs": [
        {
          "output_type": "execute_result",
          "data": {
            "text/plain": [
              "praw.models.listing.generator.ListingGenerator"
            ]
          },
          "metadata": {
            "tags": []
          },
          "execution_count": 5
        }
      ]
    },
    {
      "cell_type": "code",
      "metadata": {
        "id": "SKLR7CiksdBi",
        "colab_type": "code",
        "colab": {
          "base_uri": "https://localhost:8080/",
          "height": 34
        },
        "outputId": "4c95b101-5201-4e2a-907e-accf51286ed1"
      },
      "source": [
        "posts = [p for p in top_posts]\n",
        "print(len(posts))"
      ],
      "execution_count": 6,
      "outputs": [
        {
          "output_type": "stream",
          "text": [
            "100\n"
          ],
          "name": "stdout"
        }
      ]
    },
    {
      "cell_type": "code",
      "metadata": {
        "id": "SvzfcSDHst1R",
        "colab_type": "code",
        "colab": {
          "base_uri": "https://localhost:8080/",
          "height": 34
        },
        "outputId": "8ce85e02-9546-4bd2-a71d-8bace88c6b2f"
      },
      "source": [
        "type(posts[0])"
      ],
      "execution_count": 7,
      "outputs": [
        {
          "output_type": "execute_result",
          "data": {
            "text/plain": [
              "praw.models.reddit.submission.Submission"
            ]
          },
          "metadata": {
            "tags": []
          },
          "execution_count": 7
        }
      ]
    },
    {
      "cell_type": "code",
      "metadata": {
        "id": "LyON4P7itZ8z",
        "colab_type": "code",
        "colab": {}
      },
      "source": [
        "import pandas as pd\n",
        "\n",
        "data = []\n",
        "for post in posts:\n",
        "  data.append([post.id, post.title, post.score, post.subreddit, post.url, \n",
        "               post.num_comments, post.selftext, post.created])\n",
        "\n",
        "col_names = ['id', 'title', 'score', 'subreddit', 'url', \n",
        "             'num_comments', 'text', 'created']\n",
        "\n",
        "df = pd.DataFrame(data, columns=col_names)"
      ],
      "execution_count": 0,
      "outputs": []
    },
    {
      "cell_type": "markdown",
      "metadata": {
        "id": "Z6_tDhZGxNGq",
        "colab_type": "text"
      },
      "source": [
        "Compare to https://www.reddit.com/r/MachineLearning/top/?t=all"
      ]
    },
    {
      "cell_type": "code",
      "metadata": {
        "id": "qVUEmZqAxHt_",
        "colab_type": "code",
        "colab": {
          "base_uri": "https://localhost:8080/",
          "height": 359
        },
        "outputId": "5f8f748e-56c1-498a-99aa-336c2c8469fe"
      },
      "source": [
        "df.head(10)"
      ],
      "execution_count": 16,
      "outputs": [
        {
          "output_type": "execute_result",
          "data": {
            "text/html": [
              "<div>\n",
              "<style scoped>\n",
              "    .dataframe tbody tr th:only-of-type {\n",
              "        vertical-align: middle;\n",
              "    }\n",
              "\n",
              "    .dataframe tbody tr th {\n",
              "        vertical-align: top;\n",
              "    }\n",
              "\n",
              "    .dataframe thead th {\n",
              "        text-align: right;\n",
              "    }\n",
              "</style>\n",
              "<table border=\"1\" class=\"dataframe\">\n",
              "  <thead>\n",
              "    <tr style=\"text-align: right;\">\n",
              "      <th></th>\n",
              "      <th>id</th>\n",
              "      <th>title</th>\n",
              "      <th>score</th>\n",
              "      <th>subreddit</th>\n",
              "      <th>url</th>\n",
              "      <th>num_comments</th>\n",
              "      <th>text</th>\n",
              "      <th>created</th>\n",
              "    </tr>\n",
              "  </thead>\n",
              "  <tbody>\n",
              "    <tr>\n",
              "      <th>0</th>\n",
              "      <td>g7nfvb</td>\n",
              "      <td>[R] First Order Motion Model applied to animat...</td>\n",
              "      <td>4103</td>\n",
              "      <td>MachineLearning</td>\n",
              "      <td>https://v.redd.it/rlmmjm1q5wu41</td>\n",
              "      <td>108</td>\n",
              "      <td></td>\n",
              "      <td>1.587818e+09</td>\n",
              "    </tr>\n",
              "    <tr>\n",
              "      <th>1</th>\n",
              "      <td>dh2xfs</td>\n",
              "      <td>[D] Siraj has a new paper: 'The Neural Qubit'....</td>\n",
              "      <td>2484</td>\n",
              "      <td>MachineLearning</td>\n",
              "      <td>https://www.reddit.com/r/MachineLearning/comme...</td>\n",
              "      <td>479</td>\n",
              "      <td>Exposed in this Twitter thread: https://twitte...</td>\n",
              "      <td>1.570953e+09</td>\n",
              "    </tr>\n",
              "    <tr>\n",
              "      <th>2</th>\n",
              "      <td>748cco</td>\n",
              "      <td>[R] Neural Color Transfer between Images</td>\n",
              "      <td>2315</td>\n",
              "      <td>MachineLearning</td>\n",
              "      <td>https://i.redd.it/1qync11pltpz.jpg</td>\n",
              "      <td>90</td>\n",
              "      <td></td>\n",
              "      <td>1.507155e+09</td>\n",
              "    </tr>\n",
              "    <tr>\n",
              "      <th>3</th>\n",
              "      <td>g7wvpb</td>\n",
              "      <td>[R] Adversarial Latent Autoencoders (CVPR2020 ...</td>\n",
              "      <td>2001</td>\n",
              "      <td>MachineLearning</td>\n",
              "      <td>https://v.redd.it/0bzww3okvzu41</td>\n",
              "      <td>85</td>\n",
              "      <td></td>\n",
              "      <td>1.587863e+09</td>\n",
              "    </tr>\n",
              "    <tr>\n",
              "      <th>4</th>\n",
              "      <td>8n04hp</td>\n",
              "      <td>[P] Realtime multihand pose estimation demo</td>\n",
              "      <td>1688</td>\n",
              "      <td>MachineLearning</td>\n",
              "      <td>https://media.giphy.com/media/RIX4ApOoVr5LmikK...</td>\n",
              "      <td>139</td>\n",
              "      <td></td>\n",
              "      <td>1.527638e+09</td>\n",
              "    </tr>\n",
              "    <tr>\n",
              "      <th>5</th>\n",
              "      <td>68y8bb</td>\n",
              "      <td>[R] Deep Image Analogy</td>\n",
              "      <td>1668</td>\n",
              "      <td>MachineLearning</td>\n",
              "      <td>https://i.redd.it/4n1j4tvhq7vy.jpg</td>\n",
              "      <td>123</td>\n",
              "      <td></td>\n",
              "      <td>1.493815e+09</td>\n",
              "    </tr>\n",
              "    <tr>\n",
              "      <th>6</th>\n",
              "      <td>g6og9l</td>\n",
              "      <td>[P] I trained a recurrent neural network train...</td>\n",
              "      <td>1628</td>\n",
              "      <td>MachineLearning</td>\n",
              "      <td>https://www.reddit.com/r/MachineLearning/comme...</td>\n",
              "      <td>124</td>\n",
              "      <td># DICK-RNN\\n\\nA recurrent neural network train...</td>\n",
              "      <td>1.587684e+09</td>\n",
              "    </tr>\n",
              "    <tr>\n",
              "      <th>7</th>\n",
              "      <td>6l2esd</td>\n",
              "      <td>[D] Why can't you guys comment your fucking code?</td>\n",
              "      <td>1575</td>\n",
              "      <td>MachineLearning</td>\n",
              "      <td>https://www.reddit.com/r/MachineLearning/comme...</td>\n",
              "      <td>489</td>\n",
              "      <td>Seriously.\\n\\nI spent the last few years doing...</td>\n",
              "      <td>1.499142e+09</td>\n",
              "    </tr>\n",
              "    <tr>\n",
              "      <th>8</th>\n",
              "      <td>5z8110</td>\n",
              "      <td>[D] A Super Harsh Guide to Machine Learning</td>\n",
              "      <td>1507</td>\n",
              "      <td>MachineLearning</td>\n",
              "      <td>https://www.reddit.com/r/MachineLearning/comme...</td>\n",
              "      <td>252</td>\n",
              "      <td>First, read fucking Hastie, Tibshirani, and wh...</td>\n",
              "      <td>1.489471e+09</td>\n",
              "    </tr>\n",
              "    <tr>\n",
              "      <th>9</th>\n",
              "      <td>92x6ll</td>\n",
              "      <td>[P] Keras Implementation of Image Outpaint</td>\n",
              "      <td>1372</td>\n",
              "      <td>MachineLearning</td>\n",
              "      <td>https://i.redd.it/gpf21unrrxc11.png</td>\n",
              "      <td>95</td>\n",
              "      <td></td>\n",
              "      <td>1.532920e+09</td>\n",
              "    </tr>\n",
              "  </tbody>\n",
              "</table>\n",
              "</div>"
            ],
            "text/plain": [
              "       id  ...       created\n",
              "0  g7nfvb  ...  1.587818e+09\n",
              "1  dh2xfs  ...  1.570953e+09\n",
              "2  748cco  ...  1.507155e+09\n",
              "3  g7wvpb  ...  1.587863e+09\n",
              "4  8n04hp  ...  1.527638e+09\n",
              "5  68y8bb  ...  1.493815e+09\n",
              "6  g6og9l  ...  1.587684e+09\n",
              "7  6l2esd  ...  1.499142e+09\n",
              "8  5z8110  ...  1.489471e+09\n",
              "9  92x6ll  ...  1.532920e+09\n",
              "\n",
              "[10 rows x 8 columns]"
            ]
          },
          "metadata": {
            "tags": []
          },
          "execution_count": 16
        }
      ]
    },
    {
      "cell_type": "code",
      "metadata": {
        "id": "u6_qdNw1x6bN",
        "colab_type": "code",
        "colab": {
          "base_uri": "https://localhost:8080/",
          "height": 376
        },
        "outputId": "3a65ce31-0655-455d-f6be-5d442c0aaf5a"
      },
      "source": [
        "# All text posts\n",
        "print(len(df[df['text'] != '']), 'text posts')\n",
        "df[df['text'] != ''].head(10)"
      ],
      "execution_count": 17,
      "outputs": [
        {
          "output_type": "stream",
          "text": [
            "49 text posts\n"
          ],
          "name": "stdout"
        },
        {
          "output_type": "execute_result",
          "data": {
            "text/html": [
              "<div>\n",
              "<style scoped>\n",
              "    .dataframe tbody tr th:only-of-type {\n",
              "        vertical-align: middle;\n",
              "    }\n",
              "\n",
              "    .dataframe tbody tr th {\n",
              "        vertical-align: top;\n",
              "    }\n",
              "\n",
              "    .dataframe thead th {\n",
              "        text-align: right;\n",
              "    }\n",
              "</style>\n",
              "<table border=\"1\" class=\"dataframe\">\n",
              "  <thead>\n",
              "    <tr style=\"text-align: right;\">\n",
              "      <th></th>\n",
              "      <th>id</th>\n",
              "      <th>title</th>\n",
              "      <th>score</th>\n",
              "      <th>subreddit</th>\n",
              "      <th>url</th>\n",
              "      <th>num_comments</th>\n",
              "      <th>text</th>\n",
              "      <th>created</th>\n",
              "    </tr>\n",
              "  </thead>\n",
              "  <tbody>\n",
              "    <tr>\n",
              "      <th>1</th>\n",
              "      <td>dh2xfs</td>\n",
              "      <td>[D] Siraj has a new paper: 'The Neural Qubit'....</td>\n",
              "      <td>2484</td>\n",
              "      <td>MachineLearning</td>\n",
              "      <td>https://www.reddit.com/r/MachineLearning/comme...</td>\n",
              "      <td>479</td>\n",
              "      <td>Exposed in this Twitter thread: https://twitte...</td>\n",
              "      <td>1.570953e+09</td>\n",
              "    </tr>\n",
              "    <tr>\n",
              "      <th>6</th>\n",
              "      <td>g6og9l</td>\n",
              "      <td>[P] I trained a recurrent neural network train...</td>\n",
              "      <td>1628</td>\n",
              "      <td>MachineLearning</td>\n",
              "      <td>https://www.reddit.com/r/MachineLearning/comme...</td>\n",
              "      <td>124</td>\n",
              "      <td># DICK-RNN\\n\\nA recurrent neural network train...</td>\n",
              "      <td>1.587684e+09</td>\n",
              "    </tr>\n",
              "    <tr>\n",
              "      <th>7</th>\n",
              "      <td>6l2esd</td>\n",
              "      <td>[D] Why can't you guys comment your fucking code?</td>\n",
              "      <td>1575</td>\n",
              "      <td>MachineLearning</td>\n",
              "      <td>https://www.reddit.com/r/MachineLearning/comme...</td>\n",
              "      <td>489</td>\n",
              "      <td>Seriously.\\n\\nI spent the last few years doing...</td>\n",
              "      <td>1.499142e+09</td>\n",
              "    </tr>\n",
              "    <tr>\n",
              "      <th>8</th>\n",
              "      <td>5z8110</td>\n",
              "      <td>[D] A Super Harsh Guide to Machine Learning</td>\n",
              "      <td>1507</td>\n",
              "      <td>MachineLearning</td>\n",
              "      <td>https://www.reddit.com/r/MachineLearning/comme...</td>\n",
              "      <td>252</td>\n",
              "      <td>First, read fucking Hastie, Tibshirani, and wh...</td>\n",
              "      <td>1.489471e+09</td>\n",
              "    </tr>\n",
              "    <tr>\n",
              "      <th>10</th>\n",
              "      <td>d7ad2y</td>\n",
              "      <td>[D] Siraj Raval - Potentially exploiting stude...</td>\n",
              "      <td>1333</td>\n",
              "      <td>MachineLearning</td>\n",
              "      <td>https://www.reddit.com/r/MachineLearning/comme...</td>\n",
              "      <td>488</td>\n",
              "      <td>I'm not a personal follower of Siraj, but this...</td>\n",
              "      <td>1.569101e+09</td>\n",
              "    </tr>\n",
              "    <tr>\n",
              "      <th>13</th>\n",
              "      <td>4w6tsv</td>\n",
              "      <td>AMA: We are the Google Brain team. We'd love t...</td>\n",
              "      <td>1276</td>\n",
              "      <td>MachineLearning</td>\n",
              "      <td>https://www.reddit.com/r/MachineLearning/comme...</td>\n",
              "      <td>793</td>\n",
              "      <td>We’re a group of research scientists and engin...</td>\n",
              "      <td>1.470374e+09</td>\n",
              "    </tr>\n",
              "    <tr>\n",
              "      <th>15</th>\n",
              "      <td>eesoav</td>\n",
              "      <td>[N] 4 Months after Siraj was caught scamming h...</td>\n",
              "      <td>1245</td>\n",
              "      <td>MachineLearning</td>\n",
              "      <td>https://www.reddit.com/r/MachineLearning/comme...</td>\n",
              "      <td>183</td>\n",
              "      <td>This is fucking sick..\\n\\nPeople based in Indi...</td>\n",
              "      <td>1.577173e+09</td>\n",
              "    </tr>\n",
              "    <tr>\n",
              "      <th>18</th>\n",
              "      <td>ajgzoc</td>\n",
              "      <td>We are Oriol Vinyals and David Silver from Dee...</td>\n",
              "      <td>1161</td>\n",
              "      <td>MachineLearning</td>\n",
              "      <td>https://www.reddit.com/r/MachineLearning/comme...</td>\n",
              "      <td>1039</td>\n",
              "      <td>Hi there! We are Oriol Vinyals (/u/OriolVinyal...</td>\n",
              "      <td>1.548392e+09</td>\n",
              "    </tr>\n",
              "    <tr>\n",
              "      <th>19</th>\n",
              "      <td>bvzc7w</td>\n",
              "      <td>[D] Has anyone noticed a lot of ML research in...</td>\n",
              "      <td>1137</td>\n",
              "      <td>MachineLearning</td>\n",
              "      <td>https://www.reddit.com/r/MachineLearning/comme...</td>\n",
              "      <td>210</td>\n",
              "      <td>[https://i.imgur.com/7lCmYQt.jpg](https://i.im...</td>\n",
              "      <td>1.559523e+09</td>\n",
              "    </tr>\n",
              "    <tr>\n",
              "      <th>21</th>\n",
              "      <td>ex2sks</td>\n",
              "      <td>[D] Siraj is still plagiarizing</td>\n",
              "      <td>1123</td>\n",
              "      <td>MachineLearning</td>\n",
              "      <td>https://www.reddit.com/r/MachineLearning/comme...</td>\n",
              "      <td>146</td>\n",
              "      <td>Siraj's latest video on explainable computer v...</td>\n",
              "      <td>1.580572e+09</td>\n",
              "    </tr>\n",
              "  </tbody>\n",
              "</table>\n",
              "</div>"
            ],
            "text/plain": [
              "        id  ...       created\n",
              "1   dh2xfs  ...  1.570953e+09\n",
              "6   g6og9l  ...  1.587684e+09\n",
              "7   6l2esd  ...  1.499142e+09\n",
              "8   5z8110  ...  1.489471e+09\n",
              "10  d7ad2y  ...  1.569101e+09\n",
              "13  4w6tsv  ...  1.470374e+09\n",
              "15  eesoav  ...  1.577173e+09\n",
              "18  ajgzoc  ...  1.548392e+09\n",
              "19  bvzc7w  ...  1.559523e+09\n",
              "21  ex2sks  ...  1.580572e+09\n",
              "\n",
              "[10 rows x 8 columns]"
            ]
          },
          "metadata": {
            "tags": []
          },
          "execution_count": 17
        }
      ]
    },
    {
      "cell_type": "code",
      "metadata": {
        "id": "a2PeARNSzPOh",
        "colab_type": "code",
        "colab": {
          "base_uri": "https://localhost:8080/",
          "height": 54
        },
        "outputId": "76b142b5-2e9b-47bd-af63-e9ddbc630b3d"
      },
      "source": [
        "df.at[1, 'text']"
      ],
      "execution_count": 18,
      "outputs": [
        {
          "output_type": "execute_result",
          "data": {
            "text/plain": [
              "\"Exposed in this Twitter thread: https://twitter.com/AndrewM_Webb/status/1183150368945049605\\n\\nText, figures, tables, captions, equations (even equation numbers) are all lifted from another paper with minimal changes.\\n\\nSiraj's paper: http://vixra.org/pdf/1909.0060v1.pdf\\n\\nThe original paper: https://arxiv.org/pdf/1806.06871.pdf\\n\\nEdit: I've chosen to expose this publicly because he has a lot of fans and currently a lot of paying customers. They really trust this guy, and I don't think he's going to change.\""
            ]
          },
          "metadata": {
            "tags": []
          },
          "execution_count": 18
        }
      ]
    },
    {
      "cell_type": "code",
      "metadata": {
        "id": "kDr3UqLi3la1",
        "colab_type": "code",
        "colab": {}
      },
      "source": [
        "# Save data in a CSV so we can use it later\n",
        "df.to_csv('machine_learning_posts.csv')"
      ],
      "execution_count": 0,
      "outputs": []
    },
    {
      "cell_type": "markdown",
      "metadata": {
        "id": "AQwNeaDYiMtW",
        "colab_type": "text"
      },
      "source": [
        "---\n",
        "## Subreddit list\n",
        "\n",
        "downloaded the csv from here: https://www.reddit.com/r/ListOfSubreddits/comments/91j9ol/i_updated_my_csv_textspreadsheet_list_of_all/"
      ]
    },
    {
      "cell_type": "code",
      "metadata": {
        "id": "FgDf-wp_iPjv",
        "colab_type": "code",
        "colab": {
          "base_uri": "https://localhost:8080/",
          "height": 221
        },
        "outputId": "ecc17fa3-2f61-40dc-f5ec-17401356def0"
      },
      "source": [
        "import pandas as pd\n",
        "\n",
        "sub_list = pd.read_csv('allsubreddits.csv', header=None)\n",
        "sub_list.columns = ['subscribers', 'name', 'nsfw']\n",
        "\n",
        "print(sub_list.shape)\n",
        "sub_list.head()"
      ],
      "execution_count": 5,
      "outputs": [
        {
          "output_type": "stream",
          "text": [
            "(1130044, 3)\n"
          ],
          "name": "stdout"
        },
        {
          "output_type": "execute_result",
          "data": {
            "text/plain": [
              "   subscribers           name        nsfw\n",
              "0     27468441  announcements  nsfw=false\n",
              "1     20091892          funny  nsfw=false\n",
              "2     19663934      AskReddit  nsfw=false\n",
              "3     19112908      worldnews  nsfw=false\n",
              "4     19085004  todayilearned  nsfw=false"
            ],
            "text/html": [
              "<div>\n",
              "<style scoped>\n",
              "    .dataframe tbody tr th:only-of-type {\n",
              "        vertical-align: middle;\n",
              "    }\n",
              "\n",
              "    .dataframe tbody tr th {\n",
              "        vertical-align: top;\n",
              "    }\n",
              "\n",
              "    .dataframe thead th {\n",
              "        text-align: right;\n",
              "    }\n",
              "</style>\n",
              "<table border=\"1\" class=\"dataframe\">\n",
              "  <thead>\n",
              "    <tr style=\"text-align: right;\">\n",
              "      <th></th>\n",
              "      <th>subscribers</th>\n",
              "      <th>name</th>\n",
              "      <th>nsfw</th>\n",
              "    </tr>\n",
              "  </thead>\n",
              "  <tbody>\n",
              "    <tr>\n",
              "      <td>0</td>\n",
              "      <td>27468441</td>\n",
              "      <td>announcements</td>\n",
              "      <td>nsfw=false</td>\n",
              "    </tr>\n",
              "    <tr>\n",
              "      <td>1</td>\n",
              "      <td>20091892</td>\n",
              "      <td>funny</td>\n",
              "      <td>nsfw=false</td>\n",
              "    </tr>\n",
              "    <tr>\n",
              "      <td>2</td>\n",
              "      <td>19663934</td>\n",
              "      <td>AskReddit</td>\n",
              "      <td>nsfw=false</td>\n",
              "    </tr>\n",
              "    <tr>\n",
              "      <td>3</td>\n",
              "      <td>19112908</td>\n",
              "      <td>worldnews</td>\n",
              "      <td>nsfw=false</td>\n",
              "    </tr>\n",
              "    <tr>\n",
              "      <td>4</td>\n",
              "      <td>19085004</td>\n",
              "      <td>todayilearned</td>\n",
              "      <td>nsfw=false</td>\n",
              "    </tr>\n",
              "  </tbody>\n",
              "</table>\n",
              "</div>"
            ]
          },
          "metadata": {
            "tags": []
          },
          "execution_count": 5
        }
      ]
    },
    {
      "cell_type": "code",
      "metadata": {
        "id": "Rlsd5e6tlfcQ",
        "colab_type": "code",
        "colab": {
          "base_uri": "https://localhost:8080/",
          "height": 34
        },
        "outputId": "38702f3a-f921-4e4a-f73a-bcbb1c298a86"
      },
      "source": [
        "# Remove all nsfw subreddits\n",
        "sub_list = sub_list[sub_list['nsfw'] == 'nsfw=false']\n",
        "sub_list.shape"
      ],
      "execution_count": 8,
      "outputs": [
        {
          "output_type": "execute_result",
          "data": {
            "text/plain": [
              "(644984, 3)"
            ]
          },
          "metadata": {
            "tags": []
          },
          "execution_count": 8
        }
      ]
    },
    {
      "cell_type": "code",
      "metadata": {
        "id": "6HBMBiqZi3yp",
        "colab_type": "code",
        "colab": {
          "base_uri": "https://localhost:8080/",
          "height": 34
        },
        "outputId": "2600a366-a480-41cb-dcaf-70fcecf9107c"
      },
      "source": [
        "# Remove all subreddits with less than 100 subscribers\n",
        "sub_list = sub_list[sub_list['subscribers'] > 100]\n",
        "sub_list.shape"
      ],
      "execution_count": 9,
      "outputs": [
        {
          "output_type": "execute_result",
          "data": {
            "text/plain": [
              "(98025, 3)"
            ]
          },
          "metadata": {
            "tags": []
          },
          "execution_count": 9
        }
      ]
    },
    {
      "cell_type": "code",
      "metadata": {
        "id": "ZP_1VqzipPfw",
        "colab_type": "code",
        "colab": {
          "base_uri": "https://localhost:8080/",
          "height": 1000
        },
        "outputId": "36474d0f-4010-47b4-e8d5-e55742fc62bd"
      },
      "source": [
        "sub_list.head(50)"
      ],
      "execution_count": 11,
      "outputs": [
        {
          "output_type": "execute_result",
          "data": {
            "text/plain": [
              "    subscribers                 name        nsfw\n",
              "0      27468441        announcements  nsfw=false\n",
              "1      20091892                funny  nsfw=false\n",
              "2      19663934            AskReddit  nsfw=false\n",
              "3      19112908            worldnews  nsfw=false\n",
              "4      19085004        todayilearned  nsfw=false\n",
              "5      19064449              science  nsfw=false\n",
              "6      19016469                 pics  nsfw=false\n",
              "7      18563901               gaming  nsfw=false\n",
              "8      18167602                 IAmA  nsfw=false\n",
              "9      18090823               videos  nsfw=false\n",
              "10     17964031               movies  nsfw=false\n",
              "11     17589206                  aww  nsfw=false\n",
              "12     17128933                Music  nsfw=false\n",
              "13     16551253                 blog  nsfw=false\n",
              "14     16425944                 gifs  nsfw=false\n",
              "15     16313589                 news  nsfw=false\n",
              "16     15783166    explainlikeimfive  nsfw=false\n",
              "17     15727305           askscience  nsfw=false\n",
              "18     15664222            EarthPorn  nsfw=false\n",
              "19     14836264                books  nsfw=false\n",
              "20     14831209           television  nsfw=false\n",
              "21     14588436    mildlyinteresting  nsfw=false\n",
              "22     14493130       Showerthoughts  nsfw=false\n",
              "23     14339791          LifeProTips  nsfw=false\n",
              "24     14092389                space  nsfw=false\n",
              "25     14030980                  DIY  nsfw=false\n",
              "26     13951176                Jokes  nsfw=false\n",
              "27     13833985              gadgets  nsfw=false\n",
              "28     13770210          nottheonion  nsfw=false\n",
              "29     13658551                 food  nsfw=false\n",
              "30     13651826               sports  nsfw=false\n",
              "31     13473319                 tifu  nsfw=false\n",
              "32     13394050     photoshopbattles  nsfw=false\n",
              "33     13369937         GetMotivated  nsfw=false\n",
              "34     13353437  InternetIsBeautiful  nsfw=false\n",
              "35     13352244        Documentaries  nsfw=false\n",
              "36     13280591        UpliftingNews  nsfw=false\n",
              "37     13203990      dataisbeautiful  nsfw=false\n",
              "38     13179148                  Art  nsfw=false\n",
              "39     13166655           Futurology  nsfw=false\n",
              "40     13149380              history  nsfw=false\n",
              "41     13090348         listentothis  nsfw=false\n",
              "42     13087579      personalfinance  nsfw=false\n",
              "43     13007828        OldSchoolCool  nsfw=false\n",
              "44     12930400           philosophy  nsfw=false\n",
              "45     12482984       WritingPrompts  nsfw=false\n",
              "46     12440583              nosleep  nsfw=false\n",
              "47     12349272               creepy  nsfw=false\n",
              "48     11797658      TwoXChromosomes  nsfw=false\n",
              "49      6456837              Fitness  nsfw=false"
            ],
            "text/html": [
              "<div>\n",
              "<style scoped>\n",
              "    .dataframe tbody tr th:only-of-type {\n",
              "        vertical-align: middle;\n",
              "    }\n",
              "\n",
              "    .dataframe tbody tr th {\n",
              "        vertical-align: top;\n",
              "    }\n",
              "\n",
              "    .dataframe thead th {\n",
              "        text-align: right;\n",
              "    }\n",
              "</style>\n",
              "<table border=\"1\" class=\"dataframe\">\n",
              "  <thead>\n",
              "    <tr style=\"text-align: right;\">\n",
              "      <th></th>\n",
              "      <th>subscribers</th>\n",
              "      <th>name</th>\n",
              "      <th>nsfw</th>\n",
              "    </tr>\n",
              "  </thead>\n",
              "  <tbody>\n",
              "    <tr>\n",
              "      <td>0</td>\n",
              "      <td>27468441</td>\n",
              "      <td>announcements</td>\n",
              "      <td>nsfw=false</td>\n",
              "    </tr>\n",
              "    <tr>\n",
              "      <td>1</td>\n",
              "      <td>20091892</td>\n",
              "      <td>funny</td>\n",
              "      <td>nsfw=false</td>\n",
              "    </tr>\n",
              "    <tr>\n",
              "      <td>2</td>\n",
              "      <td>19663934</td>\n",
              "      <td>AskReddit</td>\n",
              "      <td>nsfw=false</td>\n",
              "    </tr>\n",
              "    <tr>\n",
              "      <td>3</td>\n",
              "      <td>19112908</td>\n",
              "      <td>worldnews</td>\n",
              "      <td>nsfw=false</td>\n",
              "    </tr>\n",
              "    <tr>\n",
              "      <td>4</td>\n",
              "      <td>19085004</td>\n",
              "      <td>todayilearned</td>\n",
              "      <td>nsfw=false</td>\n",
              "    </tr>\n",
              "    <tr>\n",
              "      <td>5</td>\n",
              "      <td>19064449</td>\n",
              "      <td>science</td>\n",
              "      <td>nsfw=false</td>\n",
              "    </tr>\n",
              "    <tr>\n",
              "      <td>6</td>\n",
              "      <td>19016469</td>\n",
              "      <td>pics</td>\n",
              "      <td>nsfw=false</td>\n",
              "    </tr>\n",
              "    <tr>\n",
              "      <td>7</td>\n",
              "      <td>18563901</td>\n",
              "      <td>gaming</td>\n",
              "      <td>nsfw=false</td>\n",
              "    </tr>\n",
              "    <tr>\n",
              "      <td>8</td>\n",
              "      <td>18167602</td>\n",
              "      <td>IAmA</td>\n",
              "      <td>nsfw=false</td>\n",
              "    </tr>\n",
              "    <tr>\n",
              "      <td>9</td>\n",
              "      <td>18090823</td>\n",
              "      <td>videos</td>\n",
              "      <td>nsfw=false</td>\n",
              "    </tr>\n",
              "    <tr>\n",
              "      <td>10</td>\n",
              "      <td>17964031</td>\n",
              "      <td>movies</td>\n",
              "      <td>nsfw=false</td>\n",
              "    </tr>\n",
              "    <tr>\n",
              "      <td>11</td>\n",
              "      <td>17589206</td>\n",
              "      <td>aww</td>\n",
              "      <td>nsfw=false</td>\n",
              "    </tr>\n",
              "    <tr>\n",
              "      <td>12</td>\n",
              "      <td>17128933</td>\n",
              "      <td>Music</td>\n",
              "      <td>nsfw=false</td>\n",
              "    </tr>\n",
              "    <tr>\n",
              "      <td>13</td>\n",
              "      <td>16551253</td>\n",
              "      <td>blog</td>\n",
              "      <td>nsfw=false</td>\n",
              "    </tr>\n",
              "    <tr>\n",
              "      <td>14</td>\n",
              "      <td>16425944</td>\n",
              "      <td>gifs</td>\n",
              "      <td>nsfw=false</td>\n",
              "    </tr>\n",
              "    <tr>\n",
              "      <td>15</td>\n",
              "      <td>16313589</td>\n",
              "      <td>news</td>\n",
              "      <td>nsfw=false</td>\n",
              "    </tr>\n",
              "    <tr>\n",
              "      <td>16</td>\n",
              "      <td>15783166</td>\n",
              "      <td>explainlikeimfive</td>\n",
              "      <td>nsfw=false</td>\n",
              "    </tr>\n",
              "    <tr>\n",
              "      <td>17</td>\n",
              "      <td>15727305</td>\n",
              "      <td>askscience</td>\n",
              "      <td>nsfw=false</td>\n",
              "    </tr>\n",
              "    <tr>\n",
              "      <td>18</td>\n",
              "      <td>15664222</td>\n",
              "      <td>EarthPorn</td>\n",
              "      <td>nsfw=false</td>\n",
              "    </tr>\n",
              "    <tr>\n",
              "      <td>19</td>\n",
              "      <td>14836264</td>\n",
              "      <td>books</td>\n",
              "      <td>nsfw=false</td>\n",
              "    </tr>\n",
              "    <tr>\n",
              "      <td>20</td>\n",
              "      <td>14831209</td>\n",
              "      <td>television</td>\n",
              "      <td>nsfw=false</td>\n",
              "    </tr>\n",
              "    <tr>\n",
              "      <td>21</td>\n",
              "      <td>14588436</td>\n",
              "      <td>mildlyinteresting</td>\n",
              "      <td>nsfw=false</td>\n",
              "    </tr>\n",
              "    <tr>\n",
              "      <td>22</td>\n",
              "      <td>14493130</td>\n",
              "      <td>Showerthoughts</td>\n",
              "      <td>nsfw=false</td>\n",
              "    </tr>\n",
              "    <tr>\n",
              "      <td>23</td>\n",
              "      <td>14339791</td>\n",
              "      <td>LifeProTips</td>\n",
              "      <td>nsfw=false</td>\n",
              "    </tr>\n",
              "    <tr>\n",
              "      <td>24</td>\n",
              "      <td>14092389</td>\n",
              "      <td>space</td>\n",
              "      <td>nsfw=false</td>\n",
              "    </tr>\n",
              "    <tr>\n",
              "      <td>25</td>\n",
              "      <td>14030980</td>\n",
              "      <td>DIY</td>\n",
              "      <td>nsfw=false</td>\n",
              "    </tr>\n",
              "    <tr>\n",
              "      <td>26</td>\n",
              "      <td>13951176</td>\n",
              "      <td>Jokes</td>\n",
              "      <td>nsfw=false</td>\n",
              "    </tr>\n",
              "    <tr>\n",
              "      <td>27</td>\n",
              "      <td>13833985</td>\n",
              "      <td>gadgets</td>\n",
              "      <td>nsfw=false</td>\n",
              "    </tr>\n",
              "    <tr>\n",
              "      <td>28</td>\n",
              "      <td>13770210</td>\n",
              "      <td>nottheonion</td>\n",
              "      <td>nsfw=false</td>\n",
              "    </tr>\n",
              "    <tr>\n",
              "      <td>29</td>\n",
              "      <td>13658551</td>\n",
              "      <td>food</td>\n",
              "      <td>nsfw=false</td>\n",
              "    </tr>\n",
              "    <tr>\n",
              "      <td>30</td>\n",
              "      <td>13651826</td>\n",
              "      <td>sports</td>\n",
              "      <td>nsfw=false</td>\n",
              "    </tr>\n",
              "    <tr>\n",
              "      <td>31</td>\n",
              "      <td>13473319</td>\n",
              "      <td>tifu</td>\n",
              "      <td>nsfw=false</td>\n",
              "    </tr>\n",
              "    <tr>\n",
              "      <td>32</td>\n",
              "      <td>13394050</td>\n",
              "      <td>photoshopbattles</td>\n",
              "      <td>nsfw=false</td>\n",
              "    </tr>\n",
              "    <tr>\n",
              "      <td>33</td>\n",
              "      <td>13369937</td>\n",
              "      <td>GetMotivated</td>\n",
              "      <td>nsfw=false</td>\n",
              "    </tr>\n",
              "    <tr>\n",
              "      <td>34</td>\n",
              "      <td>13353437</td>\n",
              "      <td>InternetIsBeautiful</td>\n",
              "      <td>nsfw=false</td>\n",
              "    </tr>\n",
              "    <tr>\n",
              "      <td>35</td>\n",
              "      <td>13352244</td>\n",
              "      <td>Documentaries</td>\n",
              "      <td>nsfw=false</td>\n",
              "    </tr>\n",
              "    <tr>\n",
              "      <td>36</td>\n",
              "      <td>13280591</td>\n",
              "      <td>UpliftingNews</td>\n",
              "      <td>nsfw=false</td>\n",
              "    </tr>\n",
              "    <tr>\n",
              "      <td>37</td>\n",
              "      <td>13203990</td>\n",
              "      <td>dataisbeautiful</td>\n",
              "      <td>nsfw=false</td>\n",
              "    </tr>\n",
              "    <tr>\n",
              "      <td>38</td>\n",
              "      <td>13179148</td>\n",
              "      <td>Art</td>\n",
              "      <td>nsfw=false</td>\n",
              "    </tr>\n",
              "    <tr>\n",
              "      <td>39</td>\n",
              "      <td>13166655</td>\n",
              "      <td>Futurology</td>\n",
              "      <td>nsfw=false</td>\n",
              "    </tr>\n",
              "    <tr>\n",
              "      <td>40</td>\n",
              "      <td>13149380</td>\n",
              "      <td>history</td>\n",
              "      <td>nsfw=false</td>\n",
              "    </tr>\n",
              "    <tr>\n",
              "      <td>41</td>\n",
              "      <td>13090348</td>\n",
              "      <td>listentothis</td>\n",
              "      <td>nsfw=false</td>\n",
              "    </tr>\n",
              "    <tr>\n",
              "      <td>42</td>\n",
              "      <td>13087579</td>\n",
              "      <td>personalfinance</td>\n",
              "      <td>nsfw=false</td>\n",
              "    </tr>\n",
              "    <tr>\n",
              "      <td>43</td>\n",
              "      <td>13007828</td>\n",
              "      <td>OldSchoolCool</td>\n",
              "      <td>nsfw=false</td>\n",
              "    </tr>\n",
              "    <tr>\n",
              "      <td>44</td>\n",
              "      <td>12930400</td>\n",
              "      <td>philosophy</td>\n",
              "      <td>nsfw=false</td>\n",
              "    </tr>\n",
              "    <tr>\n",
              "      <td>45</td>\n",
              "      <td>12482984</td>\n",
              "      <td>WritingPrompts</td>\n",
              "      <td>nsfw=false</td>\n",
              "    </tr>\n",
              "    <tr>\n",
              "      <td>46</td>\n",
              "      <td>12440583</td>\n",
              "      <td>nosleep</td>\n",
              "      <td>nsfw=false</td>\n",
              "    </tr>\n",
              "    <tr>\n",
              "      <td>47</td>\n",
              "      <td>12349272</td>\n",
              "      <td>creepy</td>\n",
              "      <td>nsfw=false</td>\n",
              "    </tr>\n",
              "    <tr>\n",
              "      <td>48</td>\n",
              "      <td>11797658</td>\n",
              "      <td>TwoXChromosomes</td>\n",
              "      <td>nsfw=false</td>\n",
              "    </tr>\n",
              "    <tr>\n",
              "      <td>49</td>\n",
              "      <td>6456837</td>\n",
              "      <td>Fitness</td>\n",
              "      <td>nsfw=false</td>\n",
              "    </tr>\n",
              "  </tbody>\n",
              "</table>\n",
              "</div>"
            ]
          },
          "metadata": {
            "tags": []
          },
          "execution_count": 11
        }
      ]
    },
    {
      "cell_type": "markdown",
      "metadata": {
        "id": "Z0yUoHlcbgj3",
        "colab_type": "text"
      },
      "source": [
        "## Pulling posts from reddit"
      ]
    },
    {
      "cell_type": "code",
      "metadata": {
        "id": "4pl4rzI2IAsU",
        "colab_type": "code",
        "colab": {}
      },
      "source": [
        "# additional subreddits to manually include\n",
        "handpicked = ['machinelearning',\n",
        "              'webdev']\n",
        "\n",
        "# subreddits to exclude\n",
        "blacklist = ['announcements',\n",
        "             'blog',\n",
        "             'iama']\n",
        "\n",
        "# start with top 100 most subscribed subreddits\n",
        "all_names = sub_list['name'][:100].tolist()\n",
        "\n",
        "# add handpicked and remove blacklist\n",
        "for sub in handpicked:\n",
        "  all_names.append(sub)\n",
        "all_names = list(filter(lambda x : x not in blacklist, all_names))"
      ],
      "execution_count": 0,
      "outputs": []
    },
    {
      "cell_type": "code",
      "metadata": {
        "id": "LLu9_OdXKUMy",
        "colab_type": "code",
        "colab": {
          "base_uri": "https://localhost:8080/",
          "height": 34
        },
        "outputId": "27e89564-3f81-4461-c8af-08a9248f6524"
      },
      "source": [
        "len(all_names)"
      ],
      "execution_count": 77,
      "outputs": [
        {
          "output_type": "execute_result",
          "data": {
            "text/plain": [
              "99"
            ]
          },
          "metadata": {
            "tags": []
          },
          "execution_count": 77
        }
      ]
    },
    {
      "cell_type": "code",
      "metadata": {
        "id": "MpUErianKWJo",
        "colab_type": "code",
        "colab": {
          "base_uri": "https://localhost:8080/",
          "height": 1000
        },
        "outputId": "9eb50beb-ee41-4618-830c-353dadc29f1a"
      },
      "source": [
        "import time\n",
        "\n",
        "counter = 0\n",
        "data = []\n",
        "\n",
        "# for each subreddit in the top 100\n",
        "for sub in all_names:\n",
        "  # show progress\n",
        "  print(f'{counter}: pulling data from r/{sub}')\n",
        "  counter += 1\n",
        "\n",
        "  # sleep for a few seconds to slow down requests, don't pull from API too fast\n",
        "  time.sleep(5)\n",
        "\n",
        "  # get top 1000\n",
        "  post_gen = reddit.subreddit(sub).top(limit=1000)\n",
        "\n",
        "  # for each post in the top 1000\n",
        "  for post in post_gen:\n",
        "    # if text is not empty\n",
        "    if(post.selftext != ''):\n",
        "      # append row to the data array\n",
        "      data.append([post.id, post.title, post.score, post.subreddit, post.url, \n",
        "                  post.num_comments, post.selftext, post.created])\n",
        "  \n",
        "  # get current hot 1000\n",
        "  post_gen = reddit.subreddit(sub).hot(limit=1000)\n",
        "\n",
        "  # for each post in the top 1000\n",
        "  for post in post_gen:\n",
        "    # if text is not empty\n",
        "    if(post.selftext != ''):\n",
        "      # append row to the data array\n",
        "      data.append([post.id, post.title, post.score, post.subreddit, post.url, \n",
        "                  post.num_comments, post.selftext, post.created])\n",
        "\n",
        "# set up column names\n",
        "col_names = ['id', 'title', 'score', 'subreddit', 'url', \n",
        "            'num_comments', 'text', 'created']\n",
        "\n",
        "# save in a dataframe\n",
        "df_full = pd.DataFrame(data, columns=col_names)\n",
        "print(df_full.shape)"
      ],
      "execution_count": 81,
      "outputs": [
        {
          "output_type": "stream",
          "text": [
            "0: pulling data from r/funny\n",
            "1: pulling data from r/AskReddit\n",
            "2: pulling data from r/worldnews\n",
            "3: pulling data from r/todayilearned\n",
            "4: pulling data from r/science\n",
            "5: pulling data from r/pics\n",
            "6: pulling data from r/gaming\n",
            "7: pulling data from r/IAmA\n",
            "8: pulling data from r/videos\n",
            "9: pulling data from r/movies\n",
            "10: pulling data from r/aww\n",
            "11: pulling data from r/Music\n",
            "12: pulling data from r/gifs\n",
            "13: pulling data from r/news\n",
            "14: pulling data from r/explainlikeimfive\n",
            "15: pulling data from r/askscience\n",
            "16: pulling data from r/EarthPorn\n",
            "17: pulling data from r/books\n",
            "18: pulling data from r/television\n",
            "19: pulling data from r/mildlyinteresting\n",
            "20: pulling data from r/Showerthoughts\n",
            "21: pulling data from r/LifeProTips\n",
            "22: pulling data from r/space\n",
            "23: pulling data from r/DIY\n",
            "24: pulling data from r/Jokes\n",
            "25: pulling data from r/gadgets\n",
            "26: pulling data from r/nottheonion\n",
            "27: pulling data from r/food\n",
            "28: pulling data from r/sports\n",
            "29: pulling data from r/tifu\n",
            "30: pulling data from r/photoshopbattles\n",
            "31: pulling data from r/GetMotivated\n",
            "32: pulling data from r/InternetIsBeautiful\n",
            "33: pulling data from r/Documentaries\n",
            "34: pulling data from r/UpliftingNews\n",
            "35: pulling data from r/dataisbeautiful\n",
            "36: pulling data from r/Art\n",
            "37: pulling data from r/Futurology\n",
            "38: pulling data from r/history\n",
            "39: pulling data from r/listentothis\n",
            "40: pulling data from r/personalfinance\n",
            "41: pulling data from r/OldSchoolCool\n",
            "42: pulling data from r/philosophy\n",
            "43: pulling data from r/WritingPrompts\n",
            "44: pulling data from r/nosleep\n",
            "45: pulling data from r/creepy\n",
            "46: pulling data from r/TwoXChromosomes\n",
            "47: pulling data from r/Fitness\n",
            "48: pulling data from r/technology\n",
            "49: pulling data from r/WTF\n",
            "50: pulling data from r/AdviceAnimals\n",
            "51: pulling data from r/bestof\n",
            "52: pulling data from r/politics\n",
            "53: pulling data from r/interestingasfuck\n",
            "54: pulling data from r/atheism\n",
            "55: pulling data from r/BlackPeopleTwitter\n",
            "56: pulling data from r/woahdude\n",
            "57: pulling data from r/oddlysatisfying\n",
            "58: pulling data from r/europe\n",
            "59: pulling data from r/wholesomememes\n",
            "60: pulling data from r/leagueoflegends\n",
            "61: pulling data from r/reactiongifs\n",
            "62: pulling data from r/pcmasterrace\n",
            "63: pulling data from r/facepalm\n",
            "64: pulling data from r/memes\n",
            "65: pulling data from r/me_irl\n",
            "66: pulling data from r/Unexpected\n",
            "67: pulling data from r/gameofthrones\n",
            "68: pulling data from r/relationships\n",
            "69: pulling data from r/lifehacks\n",
            "70: pulling data from r/Overwatch\n",
            "71: pulling data from r/Whatcouldgowrong\n",
            "72: pulling data from r/NatureIsFuckingLit\n",
            "73: pulling data from r/Android\n",
            "74: pulling data from r/Games\n",
            "75: pulling data from r/travel\n",
            "76: pulling data from r/nba\n",
            "77: pulling data from r/dankmemes\n",
            "78: pulling data from r/tattoos\n",
            "79: pulling data from r/trees\n",
            "80: pulling data from r/programming\n",
            "81: pulling data from r/malefashionadvice\n",
            "82: pulling data from r/CrappyDesign\n",
            "83: pulling data from r/soccer\n",
            "84: pulling data from r/AnimalsBeingJerks\n",
            "85: pulling data from r/mildlyinfuriating\n",
            "86: pulling data from r/Tinder\n",
            "87: pulling data from r/instant_regret\n",
            "88: pulling data from r/pokemon\n",
            "89: pulling data from r/trippinthroughtime\n",
            "90: pulling data from r/GifRecipes\n",
            "91: pulling data from r/AnimalsBeingBros\n",
            "92: pulling data from r/FoodPorn\n",
            "93: pulling data from r/buildapc\n",
            "94: pulling data from r/HistoryPorn\n",
            "95: pulling data from r/PS4\n",
            "96: pulling data from r/dadjokes\n",
            "97: pulling data from r/nonononoyes\n",
            "98: pulling data from r/['machinelearning', 'webdev']\n"
          ],
          "name": "stdout"
        },
        {
          "output_type": "error",
          "ename": "AttributeError",
          "evalue": "ignored",
          "traceback": [
            "\u001b[1;31m---------------------------------------------------------------------------\u001b[0m",
            "\u001b[1;31mAttributeError\u001b[0m                            Traceback (most recent call last)",
            "\u001b[1;32m<ipython-input-81-3a8dd9919a25>\u001b[0m in \u001b[0;36m<module>\u001b[1;34m\u001b[0m\n\u001b[0;32m     14\u001b[0m \u001b[1;33m\u001b[0m\u001b[0m\n\u001b[0;32m     15\u001b[0m   \u001b[1;31m# get top 1000\u001b[0m\u001b[1;33m\u001b[0m\u001b[1;33m\u001b[0m\u001b[1;33m\u001b[0m\u001b[0m\n\u001b[1;32m---> 16\u001b[1;33m   \u001b[0mpost_gen\u001b[0m \u001b[1;33m=\u001b[0m \u001b[0mreddit\u001b[0m\u001b[1;33m.\u001b[0m\u001b[0msubreddit\u001b[0m\u001b[1;33m(\u001b[0m\u001b[0msub\u001b[0m\u001b[1;33m)\u001b[0m\u001b[1;33m.\u001b[0m\u001b[0mtop\u001b[0m\u001b[1;33m(\u001b[0m\u001b[0mlimit\u001b[0m\u001b[1;33m=\u001b[0m\u001b[1;36m1000\u001b[0m\u001b[1;33m)\u001b[0m\u001b[1;33m\u001b[0m\u001b[1;33m\u001b[0m\u001b[0m\n\u001b[0m\u001b[0;32m     17\u001b[0m \u001b[1;33m\u001b[0m\u001b[0m\n\u001b[0;32m     18\u001b[0m   \u001b[1;31m# for each post in the top 1000\u001b[0m\u001b[1;33m\u001b[0m\u001b[1;33m\u001b[0m\u001b[1;33m\u001b[0m\u001b[0m\n",
            "\u001b[1;32m~\\Anaconda3\\lib\\site-packages\\praw\\models\\helpers.py\u001b[0m in \u001b[0;36m__call__\u001b[1;34m(self, display_name)\u001b[0m\n\u001b[0;32m    183\u001b[0m         \u001b[1;33m:\u001b[0m\u001b[0mparam\u001b[0m \u001b[0mdisplay_name\u001b[0m\u001b[1;33m:\u001b[0m \u001b[0mThe\u001b[0m \u001b[0mname\u001b[0m \u001b[0mof\u001b[0m \u001b[0mthe\u001b[0m \u001b[0msubreddit\u001b[0m\u001b[1;33m.\u001b[0m\u001b[1;33m\u001b[0m\u001b[1;33m\u001b[0m\u001b[0m\n\u001b[0;32m    184\u001b[0m         \"\"\"\n\u001b[1;32m--> 185\u001b[1;33m         \u001b[0mlower_name\u001b[0m \u001b[1;33m=\u001b[0m \u001b[0mdisplay_name\u001b[0m\u001b[1;33m.\u001b[0m\u001b[0mlower\u001b[0m\u001b[1;33m(\u001b[0m\u001b[1;33m)\u001b[0m\u001b[1;33m\u001b[0m\u001b[1;33m\u001b[0m\u001b[0m\n\u001b[0m\u001b[0;32m    186\u001b[0m \u001b[1;33m\u001b[0m\u001b[0m\n\u001b[0;32m    187\u001b[0m         \u001b[1;32mif\u001b[0m \u001b[0mlower_name\u001b[0m \u001b[1;33m==\u001b[0m \u001b[1;34m\"random\"\u001b[0m\u001b[1;33m:\u001b[0m\u001b[1;33m\u001b[0m\u001b[1;33m\u001b[0m\u001b[0m\n",
            "\u001b[1;31mAttributeError\u001b[0m: 'list' object has no attribute 'lower'"
          ]
        }
      ]
    },
    {
      "cell_type": "code",
      "metadata": {
        "id": "EXrD5h1UWERn",
        "colab_type": "code",
        "colab": {
          "base_uri": "https://localhost:8080/",
          "height": 68
        },
        "outputId": "21c5245e-4ebb-4dfe-8559-0a0d0ae13459"
      },
      "source": [
        "# I fixed the all_names list and pulled the last 2 manually\n",
        "\n",
        "# set up column names\n",
        "col_names = ['id', 'title', 'score', 'subreddit', 'url', \n",
        "            'num_comments', 'text', 'created']\n",
        "\n",
        "# save in a dataframe\n",
        "df_full = pd.DataFrame(data, columns=col_names)\n",
        "print(df_full.shape)"
      ],
      "execution_count": 82,
      "outputs": [
        {
          "output_type": "stream",
          "text": [
            "0: pulling data from r/machinelearning\n",
            "1: pulling data from r/webdev\n",
            "(32301, 8)\n"
          ],
          "name": "stdout"
        }
      ]
    },
    {
      "cell_type": "code",
      "metadata": {
        "id": "baZZQZuyK5sQ",
        "colab_type": "code",
        "colab": {
          "base_uri": "https://localhost:8080/",
          "height": 34
        },
        "outputId": "096d70e9-6104-49c1-c996-f78df8cf4bf6"
      },
      "source": [
        "# drop any duplicates (if posts were in both top and hot)\n",
        "df_full = df_full.drop_duplicates()\n",
        "df_full.shape"
      ],
      "execution_count": 84,
      "outputs": [
        {
          "output_type": "execute_result",
          "data": {
            "text/plain": [
              "(32289, 8)"
            ]
          },
          "metadata": {
            "tags": []
          },
          "execution_count": 84
        }
      ]
    },
    {
      "cell_type": "code",
      "metadata": {
        "id": "j0_bM_0dWuT2",
        "colab_type": "code",
        "colab": {}
      },
      "source": [
        "# the scraper pulled subreddit objects instead of str's\n",
        "df_full['subreddit'] = df_full['subreddit'].astype(str)"
      ],
      "execution_count": 0,
      "outputs": []
    },
    {
      "cell_type": "code",
      "metadata": {
        "id": "Xoy6xkX7LKpH",
        "colab_type": "code",
        "colab": {
          "base_uri": "https://localhost:8080/",
          "height": 34
        },
        "outputId": "07c8ce4a-4647-4a70-fd46-660b3bce5efe"
      },
      "source": [
        "# group by to show post counts\n",
        "sub_count = df_full.groupby('subreddit')['id'].count().sort_values(ascending=True)\n",
        "\n",
        "# remove any subs with less than 50 text posts scraped\n",
        "sub_count = sub_count[sub_count > 50]\n",
        "len(sub_count)"
      ],
      "execution_count": 89,
      "outputs": [
        {
          "output_type": "execute_result",
          "data": {
            "text/plain": [
              "46"
            ]
          },
          "metadata": {
            "tags": []
          },
          "execution_count": 89
        }
      ]
    },
    {
      "cell_type": "code",
      "metadata": {
        "id": "00yNQK-mLYQE",
        "colab_type": "code",
        "colab": {
          "base_uri": "https://localhost:8080/",
          "height": 607
        },
        "outputId": "4a30eabe-355d-486c-b44f-e3429cfbf51f"
      },
      "source": [
        "import matplotlib.pyplot as plt\n",
        "\n",
        "plt.figure(figsize=(6,10))\n",
        "plt.barh(y=range(len(sub_count)), width=sub_count)\n",
        "plt.title('Number of text posts')\n",
        "plt.yticks(ticks=range(len(sub_count)), labels=sub_count.index)\n",
        "plt.margins(y=0)\n",
        "plt.show()"
      ],
      "execution_count": 90,
      "outputs": [
        {
          "output_type": "display_data",
          "data": {
            "text/plain": [
              "<Figure size 432x720 with 1 Axes>"
            ],
            "image/png": "[encoded data removed]"
          },
          "metadata": {
            "tags": [],
            "needs_background": "light"
          }
        }
      ]
    },
    {
      "cell_type": "markdown",
      "metadata": {
        "id": "ZZElv3VBXejK",
        "colab_type": "text"
      },
      "source": [
        "## Trim data into just what the model will use"
      ]
    },
    {
      "cell_type": "code",
      "metadata": {
        "id": "3PVfGp3PXalu",
        "colab_type": "code",
        "colab": {
          "base_uri": "https://localhost:8080/",
          "height": 34
        },
        "outputId": "3a091106-333f-4baf-eeb8-7e6da5a45329"
      },
      "source": [
        "# group by to show post counts\n",
        "sub_count = df_full.groupby('subreddit')['id'].count().sort_values(ascending=True)\n",
        "\n",
        "# remove any subs with less than 100 text posts scraped\n",
        "sub_count = sub_count[sub_count > 100]\n",
        "len(sub_count)"
      ],
      "execution_count": 93,
      "outputs": [
        {
          "output_type": "execute_result",
          "data": {
            "text/plain": [
              "42"
            ]
          },
          "metadata": {
            "tags": []
          },
          "execution_count": 93
        }
      ]
    },
    {
      "cell_type": "code",
      "metadata": {
        "id": "P4xPfnx0XcWB",
        "colab_type": "code",
        "colab": {
          "base_uri": "https://localhost:8080/",
          "height": 170
        },
        "outputId": "e37f9d47-10a5-4fe5-9894-b5c3429db4b9"
      },
      "source": [
        "sub_count.index"
      ],
      "execution_count": 94,
      "outputs": [
        {
          "output_type": "execute_result",
          "data": {
            "text/plain": [
              "Index(['soccer', 'Tinder', 'Futurology', 'space', 'Showerthoughts', 'DIY',\n",
              "       'Games', 'WritingPrompts', 'lifehacks', 'gaming', 'Android', 'trees',\n",
              "       'Music', 'malefashionadvice', 'television', 'gameofthrones', 'movies',\n",
              "       'pokemon', 'Overwatch', 'pcmasterrace', 'explainlikeimfive', 'atheism',\n",
              "       'PS4', 'books', 'nba', 'webdev', 'travel', 'LifeProTips',\n",
              "       'MachineLearning', 'leagueoflegends', 'Fitness', 'askscience', 'IAmA',\n",
              "       'TwoXChromosomes', 'relationships', 'history', 'tifu', 'dadjokes',\n",
              "       'nosleep', 'personalfinance', 'Jokes', 'buildapc'],\n",
              "      dtype='object', name='subreddit')"
            ]
          },
          "metadata": {
            "tags": []
          },
          "execution_count": 94
        }
      ]
    },
    {
      "cell_type": "code",
      "metadata": {
        "id": "dpJalMLpXA4v",
        "colab_type": "code",
        "colab": {
          "base_uri": "https://localhost:8080/",
          "height": 204
        },
        "outputId": "34489e5e-cd9c-4fcf-847c-886101992527"
      },
      "source": [
        "df_trimmed = df_full[['title', 'text', 'subreddit']].copy()\n",
        "df_trimmed.head()"
      ],
      "execution_count": 201,
      "outputs": [
        {
          "output_type": "execute_result",
          "data": {
            "text/plain": [
              "                                               title  \\\n",
              "0                             COMMUNITY ANNOUNCEMENT   \n",
              "1  Weekly r/Tattoos Question/FreeTalk Thread! - A...   \n",
              "2  Enter Shikari and Architects album artwork and...   \n",
              "3  David Bowie Portrait - Healed, Done in April 2...   \n",
              "4                       Photo realism artist chicago   \n",
              "\n",
              "                                                text subreddit  \n",
              "0  In solidarity with the many communities with \"...   tattoos  \n",
              "1  ***It's question time!***\\n-------------------...   tattoos  \n",
              "2  &#x200B;\\n\\nhttps://preview.redd.it/gm8ri87ohm...   tattoos  \n",
              "3  I just found this subreddit so I figured I'd s...   tattoos  \n",
              "4  As the title suggests im looking for a good ph...   tattoos  "
            ],
            "text/html": [
              "<div>\n",
              "<style scoped>\n",
              "    .dataframe tbody tr th:only-of-type {\n",
              "        vertical-align: middle;\n",
              "    }\n",
              "\n",
              "    .dataframe tbody tr th {\n",
              "        vertical-align: top;\n",
              "    }\n",
              "\n",
              "    .dataframe thead th {\n",
              "        text-align: right;\n",
              "    }\n",
              "</style>\n",
              "<table border=\"1\" class=\"dataframe\">\n",
              "  <thead>\n",
              "    <tr style=\"text-align: right;\">\n",
              "      <th></th>\n",
              "      <th>title</th>\n",
              "      <th>text</th>\n",
              "      <th>subreddit</th>\n",
              "    </tr>\n",
              "  </thead>\n",
              "  <tbody>\n",
              "    <tr>\n",
              "      <td>0</td>\n",
              "      <td>COMMUNITY ANNOUNCEMENT</td>\n",
              "      <td>In solidarity with the many communities with \"...</td>\n",
              "      <td>tattoos</td>\n",
              "    </tr>\n",
              "    <tr>\n",
              "      <td>1</td>\n",
              "      <td>Weekly r/Tattoos Question/FreeTalk Thread! - A...</td>\n",
              "      <td>***It's question time!***\\n-------------------...</td>\n",
              "      <td>tattoos</td>\n",
              "    </tr>\n",
              "    <tr>\n",
              "      <td>2</td>\n",
              "      <td>Enter Shikari and Architects album artwork and...</td>\n",
              "      <td>&amp;#x200B;\\n\\nhttps://preview.redd.it/gm8ri87ohm...</td>\n",
              "      <td>tattoos</td>\n",
              "    </tr>\n",
              "    <tr>\n",
              "      <td>3</td>\n",
              "      <td>David Bowie Portrait - Healed, Done in April 2...</td>\n",
              "      <td>I just found this subreddit so I figured I'd s...</td>\n",
              "      <td>tattoos</td>\n",
              "    </tr>\n",
              "    <tr>\n",
              "      <td>4</td>\n",
              "      <td>Photo realism artist chicago</td>\n",
              "      <td>As the title suggests im looking for a good ph...</td>\n",
              "      <td>tattoos</td>\n",
              "    </tr>\n",
              "  </tbody>\n",
              "</table>\n",
              "</div>"
            ]
          },
          "metadata": {
            "tags": []
          },
          "execution_count": 201
        }
      ]
    },
    {
      "cell_type": "code",
      "metadata": {
        "id": "xpGapbZbXOmp",
        "colab_type": "code",
        "colab": {
          "base_uri": "https://localhost:8080/",
          "height": 204
        },
        "outputId": "c67135dc-8a34-49be-d82c-8683f918401a"
      },
      "source": [
        "df_trimmed['content'] = [''] * len(df_trimmed)\n",
        "\n",
        "# concatenate title and text together\n",
        "for i in df_trimmed.index:\n",
        "  df_trimmed.at[i, 'content'] = df_trimmed.at[i, 'title'] + ' ' + df_trimmed.at[i, 'text']\n",
        "\n",
        "df_trimmed.head()"
      ],
      "execution_count": 202,
      "outputs": [
        {
          "output_type": "execute_result",
          "data": {
            "text/plain": [
              "                                               title  \\\n",
              "0                             COMMUNITY ANNOUNCEMENT   \n",
              "1  Weekly r/Tattoos Question/FreeTalk Thread! - A...   \n",
              "2  Enter Shikari and Architects album artwork and...   \n",
              "3  David Bowie Portrait - Healed, Done in April 2...   \n",
              "4                       Photo realism artist chicago   \n",
              "\n",
              "                                                text subreddit  \\\n",
              "0  In solidarity with the many communities with \"...   tattoos   \n",
              "1  ***It's question time!***\\n-------------------...   tattoos   \n",
              "2  &#x200B;\\n\\nhttps://preview.redd.it/gm8ri87ohm...   tattoos   \n",
              "3  I just found this subreddit so I figured I'd s...   tattoos   \n",
              "4  As the title suggests im looking for a good ph...   tattoos   \n",
              "\n",
              "                                             content  \n",
              "0  COMMUNITY ANNOUNCEMENT In solidarity with the ...  \n",
              "1  Weekly r/Tattoos Question/FreeTalk Thread! - A...  \n",
              "2  Enter Shikari and Architects album artwork and...  \n",
              "3  David Bowie Portrait - Healed, Done in April 2...  \n",
              "4  Photo realism artist chicago As the title sugg...  "
            ],
            "text/html": [
              "<div>\n",
              "<style scoped>\n",
              "    .dataframe tbody tr th:only-of-type {\n",
              "        vertical-align: middle;\n",
              "    }\n",
              "\n",
              "    .dataframe tbody tr th {\n",
              "        vertical-align: top;\n",
              "    }\n",
              "\n",
              "    .dataframe thead th {\n",
              "        text-align: right;\n",
              "    }\n",
              "</style>\n",
              "<table border=\"1\" class=\"dataframe\">\n",
              "  <thead>\n",
              "    <tr style=\"text-align: right;\">\n",
              "      <th></th>\n",
              "      <th>title</th>\n",
              "      <th>text</th>\n",
              "      <th>subreddit</th>\n",
              "      <th>content</th>\n",
              "    </tr>\n",
              "  </thead>\n",
              "  <tbody>\n",
              "    <tr>\n",
              "      <td>0</td>\n",
              "      <td>COMMUNITY ANNOUNCEMENT</td>\n",
              "      <td>In solidarity with the many communities with \"...</td>\n",
              "      <td>tattoos</td>\n",
              "      <td>COMMUNITY ANNOUNCEMENT In solidarity with the ...</td>\n",
              "    </tr>\n",
              "    <tr>\n",
              "      <td>1</td>\n",
              "      <td>Weekly r/Tattoos Question/FreeTalk Thread! - A...</td>\n",
              "      <td>***It's question time!***\\n-------------------...</td>\n",
              "      <td>tattoos</td>\n",
              "      <td>Weekly r/Tattoos Question/FreeTalk Thread! - A...</td>\n",
              "    </tr>\n",
              "    <tr>\n",
              "      <td>2</td>\n",
              "      <td>Enter Shikari and Architects album artwork and...</td>\n",
              "      <td>&amp;#x200B;\\n\\nhttps://preview.redd.it/gm8ri87ohm...</td>\n",
              "      <td>tattoos</td>\n",
              "      <td>Enter Shikari and Architects album artwork and...</td>\n",
              "    </tr>\n",
              "    <tr>\n",
              "      <td>3</td>\n",
              "      <td>David Bowie Portrait - Healed, Done in April 2...</td>\n",
              "      <td>I just found this subreddit so I figured I'd s...</td>\n",
              "      <td>tattoos</td>\n",
              "      <td>David Bowie Portrait - Healed, Done in April 2...</td>\n",
              "    </tr>\n",
              "    <tr>\n",
              "      <td>4</td>\n",
              "      <td>Photo realism artist chicago</td>\n",
              "      <td>As the title suggests im looking for a good ph...</td>\n",
              "      <td>tattoos</td>\n",
              "      <td>Photo realism artist chicago As the title sugg...</td>\n",
              "    </tr>\n",
              "  </tbody>\n",
              "</table>\n",
              "</div>"
            ]
          },
          "metadata": {
            "tags": []
          },
          "execution_count": 202
        }
      ]
    },
    {
      "cell_type": "code",
      "metadata": {
        "id": "v14wNIZyYMJG",
        "colab_type": "code",
        "colab": {
          "base_uri": "https://localhost:8080/",
          "height": 204
        },
        "outputId": "13164f03-d14a-4bad-90fb-7a19d6bf250a"
      },
      "source": [
        "# remove duplicates didn't reset the index earlier\n",
        "df_trimmed = df_trimmed[['content', 'subreddit']].reset_index(drop=True)\n",
        "df_trimmed.head()"
      ],
      "execution_count": 203,
      "outputs": [
        {
          "output_type": "execute_result",
          "data": {
            "text/plain": [
              "                                             content subreddit\n",
              "0  COMMUNITY ANNOUNCEMENT In solidarity with the ...   tattoos\n",
              "1  Weekly r/Tattoos Question/FreeTalk Thread! - A...   tattoos\n",
              "2  Enter Shikari and Architects album artwork and...   tattoos\n",
              "3  David Bowie Portrait - Healed, Done in April 2...   tattoos\n",
              "4  Photo realism artist chicago As the title sugg...   tattoos"
            ],
            "text/html": [
              "<div>\n",
              "<style scoped>\n",
              "    .dataframe tbody tr th:only-of-type {\n",
              "        vertical-align: middle;\n",
              "    }\n",
              "\n",
              "    .dataframe tbody tr th {\n",
              "        vertical-align: top;\n",
              "    }\n",
              "\n",
              "    .dataframe thead th {\n",
              "        text-align: right;\n",
              "    }\n",
              "</style>\n",
              "<table border=\"1\" class=\"dataframe\">\n",
              "  <thead>\n",
              "    <tr style=\"text-align: right;\">\n",
              "      <th></th>\n",
              "      <th>content</th>\n",
              "      <th>subreddit</th>\n",
              "    </tr>\n",
              "  </thead>\n",
              "  <tbody>\n",
              "    <tr>\n",
              "      <td>0</td>\n",
              "      <td>COMMUNITY ANNOUNCEMENT In solidarity with the ...</td>\n",
              "      <td>tattoos</td>\n",
              "    </tr>\n",
              "    <tr>\n",
              "      <td>1</td>\n",
              "      <td>Weekly r/Tattoos Question/FreeTalk Thread! - A...</td>\n",
              "      <td>tattoos</td>\n",
              "    </tr>\n",
              "    <tr>\n",
              "      <td>2</td>\n",
              "      <td>Enter Shikari and Architects album artwork and...</td>\n",
              "      <td>tattoos</td>\n",
              "    </tr>\n",
              "    <tr>\n",
              "      <td>3</td>\n",
              "      <td>David Bowie Portrait - Healed, Done in April 2...</td>\n",
              "      <td>tattoos</td>\n",
              "    </tr>\n",
              "    <tr>\n",
              "      <td>4</td>\n",
              "      <td>Photo realism artist chicago As the title sugg...</td>\n",
              "      <td>tattoos</td>\n",
              "    </tr>\n",
              "  </tbody>\n",
              "</table>\n",
              "</div>"
            ]
          },
          "metadata": {
            "tags": []
          },
          "execution_count": 203
        }
      ]
    },
    {
      "cell_type": "code",
      "metadata": {
        "id": "gqPsu-HYZDgX",
        "colab_type": "code",
        "colab": {}
      },
      "source": [
        "# keep only posts from subreddits that have more than 100 posts\n",
        "df_trimmed = df_trimmed[df_trimmed['subreddit'].isin(sub_count.index)]"
      ],
      "execution_count": 0,
      "outputs": []
    },
    {
      "cell_type": "code",
      "metadata": {
        "id": "1x8n2tn1amEq",
        "colab_type": "code",
        "colab": {
          "base_uri": "https://localhost:8080/",
          "height": 34
        },
        "outputId": "78f950eb-9aea-4c90-965a-7ce6c9e8cb73"
      },
      "source": [
        "len(df_trimmed)"
      ],
      "execution_count": 205,
      "outputs": [
        {
          "output_type": "execute_result",
          "data": {
            "text/plain": [
              "32065"
            ]
          },
          "metadata": {
            "tags": []
          },
          "execution_count": 205
        }
      ]
    },
    {
      "cell_type": "code",
      "metadata": {
        "id": "HlICpz2SYfH5",
        "colab_type": "code",
        "colab": {}
      },
      "source": [
        "# save both versions\n",
        "df_full.to_csv('reddit_data_full.csv', index=0)\n",
        "df_trimmed.to_csv('reddit_data_slimmed.csv', index=0)"
      ],
      "execution_count": 0,
      "outputs": []
    },
    {
      "cell_type": "code",
      "metadata": {
        "id": "Hlerxso3_zJD",
        "colab_type": "code",
        "colab": {
          "base_uri": "https://localhost:8080/",
          "height": 204
        },
        "outputId": "643d76b5-0055-40e5-958b-b6959002f0e5"
      },
      "source": [
        "# example of reading it back in\n",
        "pd.read_csv('reddit_data_slimmed.csv').head()"
      ],
      "execution_count": 207,
      "outputs": [
        {
          "output_type": "execute_result",
          "data": {
            "text/plain": [
              "                                             content subreddit\n",
              "0  COMMUNITY ANNOUNCEMENT In solidarity with the ...   tattoos\n",
              "1  Weekly r/Tattoos Question/FreeTalk Thread! - A...   tattoos\n",
              "2  Enter Shikari and Architects album artwork and...   tattoos\n",
              "3  David Bowie Portrait - Healed, Done in April 2...   tattoos\n",
              "4  Photo realism artist chicago As the title sugg...   tattoos"
            ],
            "text/html": [
              "<div>\n",
              "<style scoped>\n",
              "    .dataframe tbody tr th:only-of-type {\n",
              "        vertical-align: middle;\n",
              "    }\n",
              "\n",
              "    .dataframe tbody tr th {\n",
              "        vertical-align: top;\n",
              "    }\n",
              "\n",
              "    .dataframe thead th {\n",
              "        text-align: right;\n",
              "    }\n",
              "</style>\n",
              "<table border=\"1\" class=\"dataframe\">\n",
              "  <thead>\n",
              "    <tr style=\"text-align: right;\">\n",
              "      <th></th>\n",
              "      <th>content</th>\n",
              "      <th>subreddit</th>\n",
              "    </tr>\n",
              "  </thead>\n",
              "  <tbody>\n",
              "    <tr>\n",
              "      <td>0</td>\n",
              "      <td>COMMUNITY ANNOUNCEMENT In solidarity with the ...</td>\n",
              "      <td>tattoos</td>\n",
              "    </tr>\n",
              "    <tr>\n",
              "      <td>1</td>\n",
              "      <td>Weekly r/Tattoos Question/FreeTalk Thread! - A...</td>\n",
              "      <td>tattoos</td>\n",
              "    </tr>\n",
              "    <tr>\n",
              "      <td>2</td>\n",
              "      <td>Enter Shikari and Architects album artwork and...</td>\n",
              "      <td>tattoos</td>\n",
              "    </tr>\n",
              "    <tr>\n",
              "      <td>3</td>\n",
              "      <td>David Bowie Portrait - Healed, Done in April 2...</td>\n",
              "      <td>tattoos</td>\n",
              "    </tr>\n",
              "    <tr>\n",
              "      <td>4</td>\n",
              "      <td>Photo realism artist chicago As the title sugg...</td>\n",
              "      <td>tattoos</td>\n",
              "    </tr>\n",
              "  </tbody>\n",
              "</table>\n",
              "</div>"
            ]
          },
          "metadata": {
            "tags": []
          },
          "execution_count": 207
        }
      ]
    },
    {
      "cell_type": "markdown",
      "metadata": {
        "id": "U6zFJsxOsG-Y",
        "colab_type": "text"
      },
      "source": [
        "## Pulling more data"
      ]
    },
    {
      "cell_type": "code",
      "metadata": {
        "id": "ADae4csV1DY2",
        "colab_type": "code",
        "colab": {}
      },
      "source": [
        "df_full = pd.read_csv('reddit_data_full.csv', index_col=0)"
      ],
      "execution_count": 0,
      "outputs": []
    },
    {
      "cell_type": "code",
      "metadata": {
        "id": "cAL4eGJcufvf",
        "colab_type": "code",
        "colab": {
          "base_uri": "https://localhost:8080/",
          "height": 204
        },
        "outputId": "cf18f9b4-6cbc-47bd-9d54-09b9c5bac2c1"
      },
      "source": [
        "# get final list of 50 subs\n",
        "sub_count = df_full.groupby('subreddit')['id'].count().sort_values(ascending=True)\n",
        "sub_count.index[-50:]"
      ],
      "execution_count": 182,
      "outputs": [
        {
          "output_type": "execute_result",
          "data": {
            "text/plain": [
              "Index(['technology', 'gadgets', 'europe', 'GifRecipes', 'GetMotivated',\n",
              "       'philosophy', 'listentothis', 'politics', 'soccer', 'Tinder',\n",
              "       'Futurology', 'space', 'Showerthoughts', 'DIY', 'Games',\n",
              "       'WritingPrompts', 'lifehacks', 'gaming', 'Android', 'trees', 'Music',\n",
              "       'malefashionadvice', 'television', 'gameofthrones', 'movies', 'pokemon',\n",
              "       'Overwatch', 'pcmasterrace', 'explainlikeimfive', 'atheism', 'PS4',\n",
              "       'books', 'nba', 'webdev', 'travel', 'LifeProTips', 'MachineLearning',\n",
              "       'leagueoflegends', 'Fitness', 'askscience', 'IAmA', 'TwoXChromosomes',\n",
              "       'relationships', 'history', 'tifu', 'dadjokes', 'nosleep',\n",
              "       'personalfinance', 'Jokes', 'buildapc'],\n",
              "      dtype='object', name='subreddit')"
            ]
          },
          "metadata": {
            "tags": []
          },
          "execution_count": 182
        }
      ]
    },
    {
      "cell_type": "code",
      "metadata": {
        "id": "-JRZwOG-0sJM",
        "colab_type": "code",
        "colab": {
          "base_uri": "https://localhost:8080/",
          "height": 901
        },
        "outputId": "61e49052-444c-4b5c-f1f1-41181e02c430"
      },
      "source": [
        "# manually dropping GifRecipes (near the bottom and meant for gif posts)\n",
        "# then keep the top 50\n",
        "sub_count = sub_count.drop('GifRecipes')[-50:]\n",
        "sub_count"
      ],
      "execution_count": 183,
      "outputs": [
        {
          "output_type": "execute_result",
          "data": {
            "text/plain": [
              "subreddit\n",
              "tattoos                29\n",
              "technology             33\n",
              "gadgets                39\n",
              "europe                 41\n",
              "GetMotivated           64\n",
              "philosophy             68\n",
              "listentothis           74\n",
              "politics               80\n",
              "soccer                101\n",
              "Tinder                108\n",
              "Futurology            148\n",
              "space                 169\n",
              "Showerthoughts        171\n",
              "DIY                   172\n",
              "Games                 176\n",
              "WritingPrompts        193\n",
              "lifehacks             199\n",
              "gaming                244\n",
              "Android               311\n",
              "trees                 311\n",
              "Music                 338\n",
              "malefashionadvice     361\n",
              "television            362\n",
              "gameofthrones         381\n",
              "movies                386\n",
              "pokemon               387\n",
              "Overwatch             410\n",
              "pcmasterrace          544\n",
              "explainlikeimfive     596\n",
              "atheism               668\n",
              "PS4                   695\n",
              "books                 713\n",
              "nba                   721\n",
              "webdev                735\n",
              "travel                784\n",
              "LifeProTips           898\n",
              "MachineLearning       907\n",
              "leagueoflegends       983\n",
              "Fitness              1111\n",
              "askscience           1194\n",
              "IAmA                 1255\n",
              "TwoXChromosomes      1343\n",
              "relationships        1399\n",
              "history              1473\n",
              "tifu                 1603\n",
              "dadjokes             1697\n",
              "nosleep              1758\n",
              "personalfinance      1847\n",
              "Jokes                1881\n",
              "buildapc             1933\n",
              "Name: id, dtype: int64"
            ]
          },
          "metadata": {
            "tags": []
          },
          "execution_count": 183
        }
      ]
    },
    {
      "cell_type": "code",
      "metadata": {
        "id": "r8_Xn1I_pDLv",
        "colab_type": "code",
        "colab": {
          "base_uri": "https://localhost:8080/",
          "height": 867
        },
        "outputId": "e9afef13-96ef-496a-ee1c-8d67cf88d5ec"
      },
      "source": [
        "# re-import data, this time limiting by posts found or checked\n",
        "\n",
        "counter = 0\n",
        "data = []\n",
        "\n",
        "# for each subreddit in the top 100\n",
        "for sub in sub_count.index:\n",
        "  # sleep for a few seconds to slow down requests, don't pull from API too fast\n",
        "  time.sleep(5)\n",
        "\n",
        "  top_post_gen = reddit.subreddit(sub).top(limit=2500)\n",
        "  for post in top_post_gen:\n",
        "    if(post.selftext != ''):\n",
        "      # append row to the data array\n",
        "      data.append([post.id, post.title, post.score, post.subreddit, post.url, \n",
        "                  post.num_comments, post.selftext, post.created])\n",
        "      \n",
        "      # stop checking for more if we've already found 2000\n",
        "      posts_found += 1\n",
        "      if(posts_found >= 2000):\n",
        "        continue\n",
        "  \n",
        "  hot_post_gen = reddit.subreddit(sub).hot(limit=2500)\n",
        "  for post in hot_post_gen:\n",
        "    if(post.selftext != ''):\n",
        "      # append row to the data array\n",
        "      data.append([post.id, post.title, post.score, post.subreddit, post.url, \n",
        "                  post.num_comments, post.selftext, post.created])\n",
        "      \n",
        "      # stop checking for more if we've already found 2000\n",
        "      posts_found += 1\n",
        "      if(posts_found >= 2000):\n",
        "        continue\n",
        "  \n",
        "  # show progress\n",
        "  counter += 1\n",
        "  posts_checked = top_post_gen.yielded + hot_post_gen.yielded\n",
        "  print(f'{counter}: Done checking r/{sub}, checked {posts_checked} and kept {posts_found} text posts')"
      ],
      "execution_count": 187,
      "outputs": [
        {
          "output_type": "stream",
          "text": [
            "1: Done checking r/tattoos, checked 1599 and kept 56 text posts\n",
            "2: Done checking r/technology, checked 1496 and kept 89 text posts\n",
            "3: Done checking r/gadgets, checked 1298 and kept 128 text posts\n",
            "4: Done checking r/europe, checked 1945 and kept 171 text posts\n",
            "5: Done checking r/GetMotivated, checked 1152 and kept 235 text posts\n",
            "6: Done checking r/philosophy, checked 1670 and kept 303 text posts\n",
            "7: Done checking r/listentothis, checked 1362 and kept 377 text posts\n",
            "8: Done checking r/politics, checked 1813 and kept 458 text posts\n",
            "9: Done checking r/soccer, checked 1552 and kept 557 text posts\n",
            "10: Done checking r/Tinder, checked 1722 and kept 666 text posts\n",
            "11: Done checking r/Futurology, checked 1843 and kept 813 text posts\n",
            "12: Done checking r/space, checked 1710 and kept 971 text posts\n",
            "13: Done checking r/Showerthoughts, checked 1520 and kept 1138 text posts\n",
            "14: Done checking r/DIY, checked 1284 and kept 1308 text posts\n",
            "15: Done checking r/Games, checked 1554 and kept 1487 text posts\n",
            "16: Done checking r/WritingPrompts, checked 1855 and kept 1678 text posts\n",
            "17: Done checking r/lifehacks, checked 1530 and kept 1879 text posts\n",
            "18: Done checking r/gaming, checked 1570 and kept 2126 text posts\n",
            "19: Done checking r/Android, checked 1703 and kept 2439 text posts\n",
            "20: Done checking r/trees, checked 1943 and kept 2755 text posts\n",
            "21: Done checking r/Music, checked 1620 and kept 3097 text posts\n",
            "22: Done checking r/malefashionadvice, checked 1325 and kept 3457 text posts\n",
            "23: Done checking r/television, checked 1669 and kept 3822 text posts\n",
            "24: Done checking r/gameofthrones, checked 1509 and kept 4202 text posts\n",
            "25: Done checking r/movies, checked 1456 and kept 4592 text posts\n",
            "26: Done checking r/pokemon, checked 1720 and kept 4975 text posts\n",
            "27: Done checking r/Overwatch, checked 1736 and kept 5388 text posts\n",
            "28: Done checking r/pcmasterrace, checked 1966 and kept 5906 text posts\n",
            "29: Done checking r/explainlikeimfive, checked 1456 and kept 6500 text posts\n",
            "30: Done checking r/atheism, checked 1810 and kept 7169 text posts\n",
            "31: Done checking r/PS4, checked 1702 and kept 7861 text posts\n",
            "32: Done checking r/books, checked 1444 and kept 8579 text posts\n",
            "33: Done checking r/nba, checked 1776 and kept 9306 text posts\n",
            "34: Done checking r/webdev, checked 1671 and kept 10046 text posts\n",
            "35: Done checking r/travel, checked 1996 and kept 10830 text posts\n",
            "36: Done checking r/LifeProTips, checked 1519 and kept 11727 text posts\n",
            "37: Done checking r/MachineLearning, checked 1412 and kept 12636 text posts\n",
            "38: Done checking r/leagueoflegends, checked 1689 and kept 13624 text posts\n",
            "39: Done checking r/Fitness, checked 1116 and kept 14735 text posts\n",
            "40: Done checking r/askscience, checked 1999 and kept 15930 text posts\n",
            "41: Done checking r/IAmA, checked 1261 and kept 17186 text posts\n",
            "42: Done checking r/TwoXChromosomes, checked 1945 and kept 18530 text posts\n",
            "43: Done checking r/relationships, checked 1399 and kept 19928 text posts\n",
            "44: Done checking r/history, checked 1990 and kept 21399 text posts\n",
            "45: Done checking r/tifu, checked 1606 and kept 23002 text posts\n",
            "46: Done checking r/dadjokes, checked 1818 and kept 24704 text posts\n",
            "47: Done checking r/nosleep, checked 1763 and kept 26462 text posts\n",
            "48: Done checking r/personalfinance, checked 1855 and kept 28297 text posts\n",
            "49: Done checking r/Jokes, checked 1875 and kept 30170 text posts\n",
            "50: Done checking r/buildapc, checked 1991 and kept 32102 text posts\n"
          ],
          "name": "stdout"
        }
      ]
    },
    {
      "cell_type": "code",
      "metadata": {
        "id": "wPOitqFcyAAW",
        "colab_type": "code",
        "colab": {
          "base_uri": "https://localhost:8080/",
          "height": 34
        },
        "outputId": "fbfdd40d-e351-40a3-aa9e-339ed090364b"
      },
      "source": [
        "top_post_gen.yielded"
      ],
      "execution_count": 168,
      "outputs": [
        {
          "output_type": "execute_result",
          "data": {
            "text/plain": [
              "882"
            ]
          },
          "metadata": {
            "tags": []
          },
          "execution_count": 168
        }
      ]
    },
    {
      "cell_type": "code",
      "metadata": {
        "id": "gqBz7TjgsQRo",
        "colab_type": "code",
        "colab": {
          "base_uri": "https://localhost:8080/",
          "height": 34
        },
        "outputId": "e9640337-dc40-4877-f7b7-3bc2663707b8"
      },
      "source": [
        "# save to a dataframe\n",
        "col_names = ['id', 'title', 'score', 'subreddit', 'url', \n",
        "            'num_comments', 'text', 'created']\n",
        "df_full = pd.DataFrame(data, columns=col_names)\n",
        "\n",
        "# the scraper pulls subreddit objects instead of str's\n",
        "df_full['subreddit'] = df_full['subreddit'].astype(str)\n",
        "\n",
        "# drop any duplicates (if posts were in both top and hot)\n",
        "df_full = df_full.drop_duplicates()\n",
        "\n",
        "print(df_full.shape)"
      ],
      "execution_count": 188,
      "outputs": [
        {
          "output_type": "stream",
          "text": [
            "(32065, 8)\n"
          ],
          "name": "stdout"
        }
      ]
    },
    {
      "cell_type": "code",
      "metadata": {
        "id": "QtRNxdBOyG1g",
        "colab_type": "code",
        "colab": {
          "base_uri": "https://localhost:8080/",
          "height": 359
        },
        "outputId": "e22f3d25-911a-47b3-d74c-f33473521c0c"
      },
      "source": [
        "df_full.head(10)"
      ],
      "execution_count": 189,
      "outputs": [
        {
          "output_type": "execute_result",
          "data": {
            "text/plain": [
              "       id                                              title  score subreddit  \\\n",
              "0  flgbu4                             COMMUNITY ANNOUNCEMENT    149   tattoos   \n",
              "1  g7tdbt  Weekly r/Tattoos Question/FreeTalk Thread! - A...      2   tattoos   \n",
              "2  g6tmu5  Enter Shikari and Architects album artwork and...      8   tattoos   \n",
              "3  g6dujs  David Bowie Portrait - Healed, Done in April 2...     15   tattoos   \n",
              "4  g5qikv                       Photo realism artist chicago      2   tattoos   \n",
              "5  g4dh76  Can you do colorful Japanese/Yakuza tattoos on...     10   tattoos   \n",
              "6  g4cvty  Tattoo Commission Question. Seperate Artist an...      3   tattoos   \n",
              "7  g3ncyx  Weekly r/Tattoos Question/FreeTalk Thread! - A...      8   tattoos   \n",
              "8  g1q1u7  Partial cover up / adding to a design with a d...      2   tattoos   \n",
              "9  g1h123  Lately I realized, that very famous people, ha...     12   tattoos   \n",
              "\n",
              "                                                 url  num_comments  \\\n",
              "0  https://www.reddit.com/r/tattoos/comments/flgb...            62   \n",
              "1  https://www.reddit.com/r/tattoos/comments/g7td...            11   \n",
              "2  https://www.reddit.com/r/tattoos/comments/g6tm...             3   \n",
              "3  https://www.reddit.com/r/tattoos/comments/g6du...             4   \n",
              "4  https://www.reddit.com/r/tattoos/comments/g5qi...             4   \n",
              "5  https://www.reddit.com/r/tattoos/comments/g4dh...             5   \n",
              "6  https://www.reddit.com/r/tattoos/comments/g4cv...            11   \n",
              "7  https://www.reddit.com/r/tattoos/comments/g3nc...            52   \n",
              "8  https://www.reddit.com/r/tattoos/comments/g1q1...             9   \n",
              "9  https://www.reddit.com/r/tattoos/comments/g1h1...             6   \n",
              "\n",
              "                                                text       created  \n",
              "0  In solidarity with the many communities with \"...  1.584676e+09  \n",
              "1  ***It's question time!***\\n-------------------...  1.587849e+09  \n",
              "2  &#x200B;\\n\\nhttps://preview.redd.it/gm8ri87ohm...  1.587701e+09  \n",
              "3  I just found this subreddit so I figured I'd s...  1.587634e+09  \n",
              "4  As the title suggests im looking for a good ph...  1.587542e+09  \n",
              "5  I have the complexion of Rhianna and want to g...  1.587352e+09  \n",
              "6  Hello, I've had tattoos done in the past and t...  1.587350e+09  \n",
              "7  ***It's question time!***\\n-------------------...  1.587245e+09  \n",
              "8  Hi all\\n\\nI got my first tattoo a few weeks ag...  1.586978e+09  \n",
              "9  Hello, new in this subreddit.\\n\\nIDK whether d...  1.586938e+09  "
            ],
            "text/html": [
              "<div>\n",
              "<style scoped>\n",
              "    .dataframe tbody tr th:only-of-type {\n",
              "        vertical-align: middle;\n",
              "    }\n",
              "\n",
              "    .dataframe tbody tr th {\n",
              "        vertical-align: top;\n",
              "    }\n",
              "\n",
              "    .dataframe thead th {\n",
              "        text-align: right;\n",
              "    }\n",
              "</style>\n",
              "<table border=\"1\" class=\"dataframe\">\n",
              "  <thead>\n",
              "    <tr style=\"text-align: right;\">\n",
              "      <th></th>\n",
              "      <th>id</th>\n",
              "      <th>title</th>\n",
              "      <th>score</th>\n",
              "      <th>subreddit</th>\n",
              "      <th>url</th>\n",
              "      <th>num_comments</th>\n",
              "      <th>text</th>\n",
              "      <th>created</th>\n",
              "    </tr>\n",
              "  </thead>\n",
              "  <tbody>\n",
              "    <tr>\n",
              "      <td>0</td>\n",
              "      <td>flgbu4</td>\n",
              "      <td>COMMUNITY ANNOUNCEMENT</td>\n",
              "      <td>149</td>\n",
              "      <td>tattoos</td>\n",
              "      <td>https://www.reddit.com/r/tattoos/comments/flgb...</td>\n",
              "      <td>62</td>\n",
              "      <td>In solidarity with the many communities with \"...</td>\n",
              "      <td>1.584676e+09</td>\n",
              "    </tr>\n",
              "    <tr>\n",
              "      <td>1</td>\n",
              "      <td>g7tdbt</td>\n",
              "      <td>Weekly r/Tattoos Question/FreeTalk Thread! - A...</td>\n",
              "      <td>2</td>\n",
              "      <td>tattoos</td>\n",
              "      <td>https://www.reddit.com/r/tattoos/comments/g7td...</td>\n",
              "      <td>11</td>\n",
              "      <td>***It's question time!***\\n-------------------...</td>\n",
              "      <td>1.587849e+09</td>\n",
              "    </tr>\n",
              "    <tr>\n",
              "      <td>2</td>\n",
              "      <td>g6tmu5</td>\n",
              "      <td>Enter Shikari and Architects album artwork and...</td>\n",
              "      <td>8</td>\n",
              "      <td>tattoos</td>\n",
              "      <td>https://www.reddit.com/r/tattoos/comments/g6tm...</td>\n",
              "      <td>3</td>\n",
              "      <td>&amp;#x200B;\\n\\nhttps://preview.redd.it/gm8ri87ohm...</td>\n",
              "      <td>1.587701e+09</td>\n",
              "    </tr>\n",
              "    <tr>\n",
              "      <td>3</td>\n",
              "      <td>g6dujs</td>\n",
              "      <td>David Bowie Portrait - Healed, Done in April 2...</td>\n",
              "      <td>15</td>\n",
              "      <td>tattoos</td>\n",
              "      <td>https://www.reddit.com/r/tattoos/comments/g6du...</td>\n",
              "      <td>4</td>\n",
              "      <td>I just found this subreddit so I figured I'd s...</td>\n",
              "      <td>1.587634e+09</td>\n",
              "    </tr>\n",
              "    <tr>\n",
              "      <td>4</td>\n",
              "      <td>g5qikv</td>\n",
              "      <td>Photo realism artist chicago</td>\n",
              "      <td>2</td>\n",
              "      <td>tattoos</td>\n",
              "      <td>https://www.reddit.com/r/tattoos/comments/g5qi...</td>\n",
              "      <td>4</td>\n",
              "      <td>As the title suggests im looking for a good ph...</td>\n",
              "      <td>1.587542e+09</td>\n",
              "    </tr>\n",
              "    <tr>\n",
              "      <td>5</td>\n",
              "      <td>g4dh76</td>\n",
              "      <td>Can you do colorful Japanese/Yakuza tattoos on...</td>\n",
              "      <td>10</td>\n",
              "      <td>tattoos</td>\n",
              "      <td>https://www.reddit.com/r/tattoos/comments/g4dh...</td>\n",
              "      <td>5</td>\n",
              "      <td>I have the complexion of Rhianna and want to g...</td>\n",
              "      <td>1.587352e+09</td>\n",
              "    </tr>\n",
              "    <tr>\n",
              "      <td>6</td>\n",
              "      <td>g4cvty</td>\n",
              "      <td>Tattoo Commission Question. Seperate Artist an...</td>\n",
              "      <td>3</td>\n",
              "      <td>tattoos</td>\n",
              "      <td>https://www.reddit.com/r/tattoos/comments/g4cv...</td>\n",
              "      <td>11</td>\n",
              "      <td>Hello, I've had tattoos done in the past and t...</td>\n",
              "      <td>1.587350e+09</td>\n",
              "    </tr>\n",
              "    <tr>\n",
              "      <td>7</td>\n",
              "      <td>g3ncyx</td>\n",
              "      <td>Weekly r/Tattoos Question/FreeTalk Thread! - A...</td>\n",
              "      <td>8</td>\n",
              "      <td>tattoos</td>\n",
              "      <td>https://www.reddit.com/r/tattoos/comments/g3nc...</td>\n",
              "      <td>52</td>\n",
              "      <td>***It's question time!***\\n-------------------...</td>\n",
              "      <td>1.587245e+09</td>\n",
              "    </tr>\n",
              "    <tr>\n",
              "      <td>8</td>\n",
              "      <td>g1q1u7</td>\n",
              "      <td>Partial cover up / adding to a design with a d...</td>\n",
              "      <td>2</td>\n",
              "      <td>tattoos</td>\n",
              "      <td>https://www.reddit.com/r/tattoos/comments/g1q1...</td>\n",
              "      <td>9</td>\n",
              "      <td>Hi all\\n\\nI got my first tattoo a few weeks ag...</td>\n",
              "      <td>1.586978e+09</td>\n",
              "    </tr>\n",
              "    <tr>\n",
              "      <td>9</td>\n",
              "      <td>g1h123</td>\n",
              "      <td>Lately I realized, that very famous people, ha...</td>\n",
              "      <td>12</td>\n",
              "      <td>tattoos</td>\n",
              "      <td>https://www.reddit.com/r/tattoos/comments/g1h1...</td>\n",
              "      <td>6</td>\n",
              "      <td>Hello, new in this subreddit.\\n\\nIDK whether d...</td>\n",
              "      <td>1.586938e+09</td>\n",
              "    </tr>\n",
              "  </tbody>\n",
              "</table>\n",
              "</div>"
            ]
          },
          "metadata": {
            "tags": []
          },
          "execution_count": 189
        }
      ]
    },
    {
      "cell_type": "code",
      "metadata": {
        "id": "MwWY2aAF-KAY",
        "colab_type": "code",
        "colab": {
          "base_uri": "https://localhost:8080/",
          "height": 901
        },
        "outputId": "830ca3da-e5c8-4cb6-ed6b-8b6f1793019b"
      },
      "source": [
        "# same results as the first time\n",
        "df_full.groupby('subreddit')['id'].count().sort_values(ascending=False)"
      ],
      "execution_count": 193,
      "outputs": [
        {
          "output_type": "execute_result",
          "data": {
            "text/plain": [
              "subreddit\n",
              "buildapc             1932\n",
              "Jokes                1872\n",
              "personalfinance      1835\n",
              "nosleep              1758\n",
              "dadjokes             1701\n",
              "tifu                 1603\n",
              "history              1470\n",
              "relationships        1398\n",
              "TwoXChromosomes      1344\n",
              "IAmA                 1254\n",
              "askscience           1194\n",
              "Fitness              1111\n",
              "leagueoflegends       988\n",
              "MachineLearning       908\n",
              "LifeProTips           897\n",
              "travel                784\n",
              "webdev                740\n",
              "nba                   727\n",
              "books                 718\n",
              "PS4                   692\n",
              "atheism               669\n",
              "explainlikeimfive     594\n",
              "pcmasterrace          518\n",
              "Overwatch             413\n",
              "movies                390\n",
              "pokemon               383\n",
              "gameofthrones         380\n",
              "television            365\n",
              "malefashionadvice     360\n",
              "Music                 341\n",
              "trees                 316\n",
              "Android               313\n",
              "gaming                247\n",
              "lifehacks             200\n",
              "WritingPrompts        191\n",
              "Games                 179\n",
              "DIY                   170\n",
              "Showerthoughts        167\n",
              "space                 158\n",
              "Futurology            147\n",
              "Tinder                109\n",
              "soccer                 99\n",
              "politics               81\n",
              "listentothis           74\n",
              "philosophy             68\n",
              "GetMotivated           64\n",
              "europe                 43\n",
              "gadgets                39\n",
              "technology             33\n",
              "tattoos                28\n",
              "Name: id, dtype: int64"
            ]
          },
          "metadata": {
            "tags": []
          },
          "execution_count": 193
        }
      ]
    },
    {
      "cell_type": "code",
      "metadata": {
        "id": "HcFOuRoS62iw",
        "colab_type": "code",
        "colab": {
          "base_uri": "https://localhost:8080/",
          "height": 884
        },
        "outputId": "e3658a34-46d7-4d2c-f893-e311414219ec"
      },
      "source": [
        "df_full['subreddit'].value_counts(normalize=True)"
      ],
      "execution_count": 214,
      "outputs": [
        {
          "output_type": "execute_result",
          "data": {
            "text/plain": [
              "buildapc             0.060253\n",
              "Jokes                0.058381\n",
              "personalfinance      0.057228\n",
              "nosleep              0.054826\n",
              "dadjokes             0.053048\n",
              "tifu                 0.049992\n",
              "history              0.045844\n",
              "relationships        0.043599\n",
              "TwoXChromosomes      0.041915\n",
              "IAmA                 0.039108\n",
              "askscience           0.037237\n",
              "Fitness              0.034648\n",
              "leagueoflegends      0.030812\n",
              "MachineLearning      0.028317\n",
              "LifeProTips          0.027974\n",
              "travel               0.024450\n",
              "webdev               0.023078\n",
              "nba                  0.022673\n",
              "books                0.022392\n",
              "PS4                  0.021581\n",
              "atheism              0.020864\n",
              "explainlikeimfive    0.018525\n",
              "pcmasterrace         0.016155\n",
              "Overwatch            0.012880\n",
              "movies               0.012163\n",
              "pokemon              0.011944\n",
              "gameofthrones        0.011851\n",
              "television           0.011383\n",
              "malefashionadvice    0.011227\n",
              "Music                0.010635\n",
              "trees                0.009855\n",
              "Android              0.009761\n",
              "gaming               0.007703\n",
              "lifehacks            0.006237\n",
              "WritingPrompts       0.005957\n",
              "Games                0.005582\n",
              "DIY                  0.005302\n",
              "Showerthoughts       0.005208\n",
              "space                0.004927\n",
              "Futurology           0.004584\n",
              "Tinder               0.003399\n",
              "soccer               0.003087\n",
              "politics             0.002526\n",
              "listentothis         0.002308\n",
              "philosophy           0.002121\n",
              "GetMotivated         0.001996\n",
              "europe               0.001341\n",
              "gadgets              0.001216\n",
              "technology           0.001029\n",
              "tattoos              0.000873\n",
              "Name: subreddit, dtype: float64"
            ]
          },
          "metadata": {
            "tags": []
          },
          "execution_count": 214
        }
      ]
    },
    {
      "cell_type": "code",
      "metadata": {
        "id": "hG-Y_0sp-tTW",
        "colab_type": "code",
        "colab": {
          "base_uri": "https://localhost:8080/",
          "height": 359
        },
        "outputId": "d404f8e1-f860-469d-c5db-f38fd5840002"
      },
      "source": [
        "df_full[df_full['subreddit'] == 'malefashionadvice'].head(10)"
      ],
      "execution_count": 200,
      "outputs": [
        {
          "output_type": "execute_result",
          "data": {
            "text/plain": [
              "          id                                              title  score  \\\n",
              "3069  ab31jf  I got sick of trying to find shirts that fit p...  18475   \n",
              "3070  7h7m28  A subreddit that is called “male fashion advic...   9500   \n",
              "3071  54xu2h      Can I get an ID on Admiral Ackbar's sneakers?   5931   \n",
              "3072  5krwax              Things you *probably* shouldn't wear.   5101   \n",
              "3073  86zq7l  My ultimate picks for most compliment getting ...   4418   \n",
              "3074  abngdv  It's SO DOPE that you guys want to learn how t...   4403   \n",
              "3075  6ji2iz            What to wear for a first date? (I'm 15)   4311   \n",
              "3076  97tcdd             Ode to the suspected fellow MFA reader   4132   \n",
              "3077  3zx3k8  Would anyone be interested in a \"sewing for gu...   3980   \n",
              "3078  5ehsxf  Posture is a huge part of how you look in clot...   3969   \n",
              "\n",
              "              subreddit                                                url  \\\n",
              "3069  malefashionadvice  https://www.reddit.com/r/malefashionadvice/com...   \n",
              "3070  malefashionadvice  https://www.reddit.com/r/malefashionadvice/com...   \n",
              "3071  malefashionadvice  https://www.reddit.com/r/malefashionadvice/com...   \n",
              "3072  malefashionadvice  https://www.reddit.com/r/malefashionadvice/com...   \n",
              "3073  malefashionadvice  https://www.reddit.com/r/malefashionadvice/com...   \n",
              "3074  malefashionadvice  https://www.reddit.com/r/malefashionadvice/com...   \n",
              "3075  malefashionadvice  https://www.reddit.com/r/malefashionadvice/com...   \n",
              "3076  malefashionadvice  https://www.reddit.com/r/malefashionadvice/com...   \n",
              "3077  malefashionadvice  https://www.reddit.com/r/malefashionadvice/com...   \n",
              "3078  malefashionadvice  https://www.reddit.com/r/malefashionadvice/com...   \n",
              "\n",
              "      num_comments                                               text  \\\n",
              "3069           519  Despite what you might think, learning how to ...   \n",
              "3070           674  I get that there are questions that can be ask...   \n",
              "3071           304                           http://imgur.com/HPDki9a   \n",
              "3072          2196  *I polled around a little a while back on /r/m...   \n",
              "3073           636  **A word before**\\n\\nThis is my 2nd fragrance ...   \n",
              "3074           246  I didn't expect that tailoring thread to be su...   \n",
              "3075           142  Hello everyone it's Dylan again. I've been wel...   \n",
              "3076           156  I spot you walking to the office,\\n\\nI see you...   \n",
              "3077           637  Hello all,\\n\\nI'm thinking of starting a blog ...   \n",
              "3078           253  Hey MFA, \\n\\nThis has been running through my ...   \n",
              "\n",
              "           created  \n",
              "3069  1.546255e+09  \n",
              "3070  1.512303e+09  \n",
              "3071  1.475116e+09  \n",
              "3072  1.482980e+09  \n",
              "3073  1.521999e+09  \n",
              "3074  1.546415e+09  \n",
              "3075  1.498468e+09  \n",
              "3076  1.534463e+09  \n",
              "3077  1.452224e+09  \n",
              "3078  1.479943e+09  "
            ],
            "text/html": [
              "<div>\n",
              "<style scoped>\n",
              "    .dataframe tbody tr th:only-of-type {\n",
              "        vertical-align: middle;\n",
              "    }\n",
              "\n",
              "    .dataframe tbody tr th {\n",
              "        vertical-align: top;\n",
              "    }\n",
              "\n",
              "    .dataframe thead th {\n",
              "        text-align: right;\n",
              "    }\n",
              "</style>\n",
              "<table border=\"1\" class=\"dataframe\">\n",
              "  <thead>\n",
              "    <tr style=\"text-align: right;\">\n",
              "      <th></th>\n",
              "      <th>id</th>\n",
              "      <th>title</th>\n",
              "      <th>score</th>\n",
              "      <th>subreddit</th>\n",
              "      <th>url</th>\n",
              "      <th>num_comments</th>\n",
              "      <th>text</th>\n",
              "      <th>created</th>\n",
              "    </tr>\n",
              "  </thead>\n",
              "  <tbody>\n",
              "    <tr>\n",
              "      <td>3069</td>\n",
              "      <td>ab31jf</td>\n",
              "      <td>I got sick of trying to find shirts that fit p...</td>\n",
              "      <td>18475</td>\n",
              "      <td>malefashionadvice</td>\n",
              "      <td>https://www.reddit.com/r/malefashionadvice/com...</td>\n",
              "      <td>519</td>\n",
              "      <td>Despite what you might think, learning how to ...</td>\n",
              "      <td>1.546255e+09</td>\n",
              "    </tr>\n",
              "    <tr>\n",
              "      <td>3070</td>\n",
              "      <td>7h7m28</td>\n",
              "      <td>A subreddit that is called “male fashion advic...</td>\n",
              "      <td>9500</td>\n",
              "      <td>malefashionadvice</td>\n",
              "      <td>https://www.reddit.com/r/malefashionadvice/com...</td>\n",
              "      <td>674</td>\n",
              "      <td>I get that there are questions that can be ask...</td>\n",
              "      <td>1.512303e+09</td>\n",
              "    </tr>\n",
              "    <tr>\n",
              "      <td>3071</td>\n",
              "      <td>54xu2h</td>\n",
              "      <td>Can I get an ID on Admiral Ackbar's sneakers?</td>\n",
              "      <td>5931</td>\n",
              "      <td>malefashionadvice</td>\n",
              "      <td>https://www.reddit.com/r/malefashionadvice/com...</td>\n",
              "      <td>304</td>\n",
              "      <td>http://imgur.com/HPDki9a</td>\n",
              "      <td>1.475116e+09</td>\n",
              "    </tr>\n",
              "    <tr>\n",
              "      <td>3072</td>\n",
              "      <td>5krwax</td>\n",
              "      <td>Things you *probably* shouldn't wear.</td>\n",
              "      <td>5101</td>\n",
              "      <td>malefashionadvice</td>\n",
              "      <td>https://www.reddit.com/r/malefashionadvice/com...</td>\n",
              "      <td>2196</td>\n",
              "      <td>*I polled around a little a while back on /r/m...</td>\n",
              "      <td>1.482980e+09</td>\n",
              "    </tr>\n",
              "    <tr>\n",
              "      <td>3073</td>\n",
              "      <td>86zq7l</td>\n",
              "      <td>My ultimate picks for most compliment getting ...</td>\n",
              "      <td>4418</td>\n",
              "      <td>malefashionadvice</td>\n",
              "      <td>https://www.reddit.com/r/malefashionadvice/com...</td>\n",
              "      <td>636</td>\n",
              "      <td>**A word before**\\n\\nThis is my 2nd fragrance ...</td>\n",
              "      <td>1.521999e+09</td>\n",
              "    </tr>\n",
              "    <tr>\n",
              "      <td>3074</td>\n",
              "      <td>abngdv</td>\n",
              "      <td>It's SO DOPE that you guys want to learn how t...</td>\n",
              "      <td>4403</td>\n",
              "      <td>malefashionadvice</td>\n",
              "      <td>https://www.reddit.com/r/malefashionadvice/com...</td>\n",
              "      <td>246</td>\n",
              "      <td>I didn't expect that tailoring thread to be su...</td>\n",
              "      <td>1.546415e+09</td>\n",
              "    </tr>\n",
              "    <tr>\n",
              "      <td>3075</td>\n",
              "      <td>6ji2iz</td>\n",
              "      <td>What to wear for a first date? (I'm 15)</td>\n",
              "      <td>4311</td>\n",
              "      <td>malefashionadvice</td>\n",
              "      <td>https://www.reddit.com/r/malefashionadvice/com...</td>\n",
              "      <td>142</td>\n",
              "      <td>Hello everyone it's Dylan again. I've been wel...</td>\n",
              "      <td>1.498468e+09</td>\n",
              "    </tr>\n",
              "    <tr>\n",
              "      <td>3076</td>\n",
              "      <td>97tcdd</td>\n",
              "      <td>Ode to the suspected fellow MFA reader</td>\n",
              "      <td>4132</td>\n",
              "      <td>malefashionadvice</td>\n",
              "      <td>https://www.reddit.com/r/malefashionadvice/com...</td>\n",
              "      <td>156</td>\n",
              "      <td>I spot you walking to the office,\\n\\nI see you...</td>\n",
              "      <td>1.534463e+09</td>\n",
              "    </tr>\n",
              "    <tr>\n",
              "      <td>3077</td>\n",
              "      <td>3zx3k8</td>\n",
              "      <td>Would anyone be interested in a \"sewing for gu...</td>\n",
              "      <td>3980</td>\n",
              "      <td>malefashionadvice</td>\n",
              "      <td>https://www.reddit.com/r/malefashionadvice/com...</td>\n",
              "      <td>637</td>\n",
              "      <td>Hello all,\\n\\nI'm thinking of starting a blog ...</td>\n",
              "      <td>1.452224e+09</td>\n",
              "    </tr>\n",
              "    <tr>\n",
              "      <td>3078</td>\n",
              "      <td>5ehsxf</td>\n",
              "      <td>Posture is a huge part of how you look in clot...</td>\n",
              "      <td>3969</td>\n",
              "      <td>malefashionadvice</td>\n",
              "      <td>https://www.reddit.com/r/malefashionadvice/com...</td>\n",
              "      <td>253</td>\n",
              "      <td>Hey MFA, \\n\\nThis has been running through my ...</td>\n",
              "      <td>1.479943e+09</td>\n",
              "    </tr>\n",
              "  </tbody>\n",
              "</table>\n",
              "</div>"
            ]
          },
          "metadata": {
            "tags": []
          },
          "execution_count": 200
        }
      ]
    },
    {
      "cell_type": "code",
      "metadata": {
        "id": "cyzTZM7fZT5L",
        "colab_type": "code",
        "colab": {
          "base_uri": "https://localhost:8080/",
          "height": 204
        },
        "outputId": "725eecca-e117-4274-f4ce-8aef2c4c1043"
      },
      "source": [
        "df_full['subreddit'].value_counts().index"
      ],
      "execution_count": 210,
      "outputs": [
        {
          "output_type": "execute_result",
          "data": {
            "text/plain": [
              "Index(['buildapc', 'Jokes', 'personalfinance', 'nosleep', 'dadjokes', 'tifu',\n",
              "       'history', 'relationships', 'TwoXChromosomes', 'IAmA', 'askscience',\n",
              "       'Fitness', 'leagueoflegends', 'MachineLearning', 'LifeProTips',\n",
              "       'travel', 'webdev', 'nba', 'books', 'PS4', 'atheism',\n",
              "       'explainlikeimfive', 'pcmasterrace', 'Overwatch', 'movies', 'pokemon',\n",
              "       'gameofthrones', 'television', 'malefashionadvice', 'Music', 'trees',\n",
              "       'Android', 'gaming', 'lifehacks', 'WritingPrompts', 'Games', 'DIY',\n",
              "       'Showerthoughts', 'space', 'Futurology', 'Tinder', 'soccer', 'politics',\n",
              "       'listentothis', 'philosophy', 'GetMotivated', 'europe', 'gadgets',\n",
              "       'technology', 'tattoos'],\n",
              "      dtype='object')"
            ]
          },
          "metadata": {
            "tags": []
          },
          "execution_count": 210
        }
      ]
    },
    {
      "cell_type": "code",
      "metadata": {
        "id": "17R6nAM-jaVB",
        "colab_type": "code",
        "colab": {
          "base_uri": "https://localhost:8080/",
          "height": 419
        },
        "outputId": "26842df2-28ba-4b17-ad5a-1c24696ba864"
      },
      "source": [
        "df_full[df_full['subreddit'] == 'pcmasterrace']"
      ],
      "execution_count": 211,
      "outputs": [
        {
          "output_type": "execute_result",
          "data": {
            "text/plain": [
              "          id                                              title  score  \\\n",
              "5360  7dkmk6  If you people would get even half as mad over ...  94414   \n",
              "5361  drup5a  Bought defective Razer Blade - they banned me ...  30489   \n",
              "5362  5ysmza  Why's it so hard to be banned from a console s...  29237   \n",
              "5363  62zrwf  Still waiting to receive my prize after 7 mont...  28882   \n",
              "5364  7c75cc                              My pc is working fine  28874   \n",
              "...      ...                                                ...    ...   \n",
              "5873  g8qolw  2080 Super won’t output splash screen or bios ...      2   \n",
              "5874  g8txgt  Looking for a decent 1440p/144Hz gaming monito...      1   \n",
              "5875  g8qlco          At what point do you need liquid cooling?      2   \n",
              "5876  g8tvzh                            Which 140mm intake can?      1   \n",
              "5877  g8qivd  Is it beneficial to overclock CPU and RAM if I...      2   \n",
              "\n",
              "         subreddit                                                url  \\\n",
              "5360  pcmasterrace  https://www.reddit.com/r/pcmasterrace/comments...   \n",
              "5361  pcmasterrace  https://www.reddit.com/r/pcmasterrace/comments...   \n",
              "5362  pcmasterrace  https://www.reddit.com/r/pcmasterrace/comments...   \n",
              "5363  pcmasterrace  https://www.reddit.com/r/pcmasterrace/comments...   \n",
              "5364  pcmasterrace  https://www.reddit.com/r/pcmasterrace/comments...   \n",
              "...            ...                                                ...   \n",
              "5873  pcmasterrace  https://www.reddit.com/r/pcmasterrace/comments...   \n",
              "5874  pcmasterrace  https://www.reddit.com/r/pcmasterrace/comments...   \n",
              "5875  pcmasterrace  https://www.reddit.com/r/pcmasterrace/comments...   \n",
              "5876  pcmasterrace  https://www.reddit.com/r/pcmasterrace/comments...   \n",
              "5877  pcmasterrace  https://www.reddit.com/r/pcmasterrace/comments...   \n",
              "\n",
              "      num_comments                                               text  \\\n",
              "5360          2834  Just wait until NN is killed and Comcast lower...   \n",
              "5361          2251  **We all make mistakes and occasional bad judg...   \n",
              "5362           736                          They don't have any mods.   \n",
              "5363          1074  Hi everyone, I am posting here as I need some ...   \n",
              "5364          1056  i see only people saying saying their pc is ha...   \n",
              "...            ...                                                ...   \n",
              "5873            14  Pretty much the title. Swapped out 1080ti for ...   \n",
              "5874             8  I'm getting a new graphics card soon and I wan...   \n",
              "5875            13  Going to build a gaming/streaming rig in a few...   \n",
              "5876             4  I’m have a Phantek eclipse p300 and am wanting...   \n",
              "5877             2  I recently bought a Ryzen 1600af and 16GB 3200...   \n",
              "\n",
              "           created  \n",
              "5360  1.510951e+09  \n",
              "5361  1.572960e+09  \n",
              "5362  1.489268e+09  \n",
              "5363  1.491171e+09  \n",
              "5364  1.510414e+09  \n",
              "...            ...  \n",
              "5873  1.587979e+09  \n",
              "5874  1.587992e+09  \n",
              "5875  1.587978e+09  \n",
              "5876  1.587992e+09  \n",
              "5877  1.587978e+09  \n",
              "\n",
              "[518 rows x 8 columns]"
            ],
            "text/html": [
              "<div>\n",
              "<style scoped>\n",
              "    .dataframe tbody tr th:only-of-type {\n",
              "        vertical-align: middle;\n",
              "    }\n",
              "\n",
              "    .dataframe tbody tr th {\n",
              "        vertical-align: top;\n",
              "    }\n",
              "\n",
              "    .dataframe thead th {\n",
              "        text-align: right;\n",
              "    }\n",
              "</style>\n",
              "<table border=\"1\" class=\"dataframe\">\n",
              "  <thead>\n",
              "    <tr style=\"text-align: right;\">\n",
              "      <th></th>\n",
              "      <th>id</th>\n",
              "      <th>title</th>\n",
              "      <th>score</th>\n",
              "      <th>subreddit</th>\n",
              "      <th>url</th>\n",
              "      <th>num_comments</th>\n",
              "      <th>text</th>\n",
              "      <th>created</th>\n",
              "    </tr>\n",
              "  </thead>\n",
              "  <tbody>\n",
              "    <tr>\n",
              "      <td>5360</td>\n",
              "      <td>7dkmk6</td>\n",
              "      <td>If you people would get even half as mad over ...</td>\n",
              "      <td>94414</td>\n",
              "      <td>pcmasterrace</td>\n",
              "      <td>https://www.reddit.com/r/pcmasterrace/comments...</td>\n",
              "      <td>2834</td>\n",
              "      <td>Just wait until NN is killed and Comcast lower...</td>\n",
              "      <td>1.510951e+09</td>\n",
              "    </tr>\n",
              "    <tr>\n",
              "      <td>5361</td>\n",
              "      <td>drup5a</td>\n",
              "      <td>Bought defective Razer Blade - they banned me ...</td>\n",
              "      <td>30489</td>\n",
              "      <td>pcmasterrace</td>\n",
              "      <td>https://www.reddit.com/r/pcmasterrace/comments...</td>\n",
              "      <td>2251</td>\n",
              "      <td>**We all make mistakes and occasional bad judg...</td>\n",
              "      <td>1.572960e+09</td>\n",
              "    </tr>\n",
              "    <tr>\n",
              "      <td>5362</td>\n",
              "      <td>5ysmza</td>\n",
              "      <td>Why's it so hard to be banned from a console s...</td>\n",
              "      <td>29237</td>\n",
              "      <td>pcmasterrace</td>\n",
              "      <td>https://www.reddit.com/r/pcmasterrace/comments...</td>\n",
              "      <td>736</td>\n",
              "      <td>They don't have any mods.</td>\n",
              "      <td>1.489268e+09</td>\n",
              "    </tr>\n",
              "    <tr>\n",
              "      <td>5363</td>\n",
              "      <td>62zrwf</td>\n",
              "      <td>Still waiting to receive my prize after 7 mont...</td>\n",
              "      <td>28882</td>\n",
              "      <td>pcmasterrace</td>\n",
              "      <td>https://www.reddit.com/r/pcmasterrace/comments...</td>\n",
              "      <td>1074</td>\n",
              "      <td>Hi everyone, I am posting here as I need some ...</td>\n",
              "      <td>1.491171e+09</td>\n",
              "    </tr>\n",
              "    <tr>\n",
              "      <td>5364</td>\n",
              "      <td>7c75cc</td>\n",
              "      <td>My pc is working fine</td>\n",
              "      <td>28874</td>\n",
              "      <td>pcmasterrace</td>\n",
              "      <td>https://www.reddit.com/r/pcmasterrace/comments...</td>\n",
              "      <td>1056</td>\n",
              "      <td>i see only people saying saying their pc is ha...</td>\n",
              "      <td>1.510414e+09</td>\n",
              "    </tr>\n",
              "    <tr>\n",
              "      <td>...</td>\n",
              "      <td>...</td>\n",
              "      <td>...</td>\n",
              "      <td>...</td>\n",
              "      <td>...</td>\n",
              "      <td>...</td>\n",
              "      <td>...</td>\n",
              "      <td>...</td>\n",
              "      <td>...</td>\n",
              "    </tr>\n",
              "    <tr>\n",
              "      <td>5873</td>\n",
              "      <td>g8qolw</td>\n",
              "      <td>2080 Super won’t output splash screen or bios ...</td>\n",
              "      <td>2</td>\n",
              "      <td>pcmasterrace</td>\n",
              "      <td>https://www.reddit.com/r/pcmasterrace/comments...</td>\n",
              "      <td>14</td>\n",
              "      <td>Pretty much the title. Swapped out 1080ti for ...</td>\n",
              "      <td>1.587979e+09</td>\n",
              "    </tr>\n",
              "    <tr>\n",
              "      <td>5874</td>\n",
              "      <td>g8txgt</td>\n",
              "      <td>Looking for a decent 1440p/144Hz gaming monito...</td>\n",
              "      <td>1</td>\n",
              "      <td>pcmasterrace</td>\n",
              "      <td>https://www.reddit.com/r/pcmasterrace/comments...</td>\n",
              "      <td>8</td>\n",
              "      <td>I'm getting a new graphics card soon and I wan...</td>\n",
              "      <td>1.587992e+09</td>\n",
              "    </tr>\n",
              "    <tr>\n",
              "      <td>5875</td>\n",
              "      <td>g8qlco</td>\n",
              "      <td>At what point do you need liquid cooling?</td>\n",
              "      <td>2</td>\n",
              "      <td>pcmasterrace</td>\n",
              "      <td>https://www.reddit.com/r/pcmasterrace/comments...</td>\n",
              "      <td>13</td>\n",
              "      <td>Going to build a gaming/streaming rig in a few...</td>\n",
              "      <td>1.587978e+09</td>\n",
              "    </tr>\n",
              "    <tr>\n",
              "      <td>5876</td>\n",
              "      <td>g8tvzh</td>\n",
              "      <td>Which 140mm intake can?</td>\n",
              "      <td>1</td>\n",
              "      <td>pcmasterrace</td>\n",
              "      <td>https://www.reddit.com/r/pcmasterrace/comments...</td>\n",
              "      <td>4</td>\n",
              "      <td>I’m have a Phantek eclipse p300 and am wanting...</td>\n",
              "      <td>1.587992e+09</td>\n",
              "    </tr>\n",
              "    <tr>\n",
              "      <td>5877</td>\n",
              "      <td>g8qivd</td>\n",
              "      <td>Is it beneficial to overclock CPU and RAM if I...</td>\n",
              "      <td>2</td>\n",
              "      <td>pcmasterrace</td>\n",
              "      <td>https://www.reddit.com/r/pcmasterrace/comments...</td>\n",
              "      <td>2</td>\n",
              "      <td>I recently bought a Ryzen 1600af and 16GB 3200...</td>\n",
              "      <td>1.587978e+09</td>\n",
              "    </tr>\n",
              "  </tbody>\n",
              "</table>\n",
              "<p>518 rows × 8 columns</p>\n",
              "</div>"
            ]
          },
          "metadata": {
            "tags": []
          },
          "execution_count": 211
        }
      ]
    }
  ]
}